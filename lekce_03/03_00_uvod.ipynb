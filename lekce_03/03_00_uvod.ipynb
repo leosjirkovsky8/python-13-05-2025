{
 "cells": [
  {
   "cell_type": "markdown",
   "id": "dcb3fa22",
   "metadata": {},
   "source": [
    "Proč nám `list` někdy nestačí?\n",
    "\n",
    "###  Představte si:\n",
    "\n",
    "Chcete si uložit údaje o uživateli – jméno, příjmení a e-mail.\n"
   ]
  },
  {
   "cell_type": "code",
   "execution_count": 1,
   "id": "f7f96611",
   "metadata": {},
   "outputs": [],
   "source": [
    "uzivatel = [\"Matouš\", \"Holinka\", \"matous@holinka.com\"]"
   ]
  },
  {
   "cell_type": "markdown",
   "id": "cf74fe49",
   "metadata": {},
   "source": [
    "\n",
    "Na první pohled všechno funguje.\n",
    "\n",
    "Ale…\n"
   ]
  },
  {
   "cell_type": "code",
   "execution_count": 2,
   "id": "27fdab4b",
   "metadata": {},
   "outputs": [
    {
     "name": "stdout",
     "output_type": "stream",
     "text": [
      "matous@holinka.com\n"
     ]
    }
   ],
   "source": [
    "print(uzivatel[2])"
   ]
  },
  {
   "cell_type": "markdown",
   "id": "b9a9bc96",
   "metadata": {},
   "source": [
    "\n",
    "Co to je? Je to e-mail? Nebo příjmení?\n",
    "\n",
    "**Musíte si pamatovat, co který index znamená.**  \n",
    "U malých seznamů to ještě jde… ale co když budeš mít 100 položek?\n",
    "\n",
    "---\n",
    "\n",
    "\n",
    "## 🎯 Problém č. 1: Indexy nic neříkají\n",
    "\n"
   ]
  },
  {
   "cell_type": "code",
   "execution_count": null,
   "id": "497f274d",
   "metadata": {},
   "outputs": [],
   "source": [
    "print(uzivatel[1])  # ??? Nevíš, co dostaneš"
   ]
  },
  {
   "cell_type": "markdown",
   "id": "f88e8061",
   "metadata": {},
   "source": [
    "\n",
    "Musíte mít buď legendu, nebo si to pamatovat. A to je náchylné k chybám.\n",
    "\n",
    "---\n",
    "\n",
    "## 🎯 Problém č. 2: Duplikáty nejsou na první pohled vidět\n",
    "\n",
    "Představte si, že si ukládáte seznam e-mailů:"
   ]
  },
  {
   "cell_type": "code",
   "execution_count": 4,
   "id": "a4298a9c",
   "metadata": {},
   "outputs": [],
   "source": [
    "emaily = [\"a@firma.cz\", \"b@firma.cz\", \"a@firma.cz\"]"
   ]
  },
  {
   "cell_type": "markdown",
   "id": "757a19de",
   "metadata": {},
   "source": [
    "\n",
    "Máte tam dvakrát ten stejný e-mail. Ale všimnete si toho?\n",
    "\n",
    "---\n",
    "\n",
    "\n",
    "## 🎯 Problém č. 3: Některé údaje se nemají měnit\n",
    "\n",
    "Například souřadnice bodu:\n"
   ]
  },
  {
   "cell_type": "code",
   "execution_count": null,
   "id": "0221d520",
   "metadata": {},
   "outputs": [],
   "source": [
    "bod = [10, 20]"
   ]
  },
  {
   "cell_type": "markdown",
   "id": "a9989a54",
   "metadata": {},
   "source": [
    "Ale co když omylem změníte hodnotu?"
   ]
  },
  {
   "cell_type": "code",
   "execution_count": null,
   "id": "a3dea1ed",
   "metadata": {},
   "outputs": [],
   "source": [
    "bod[0] = 999  # Ups!"
   ]
  },
  {
   "cell_type": "markdown",
   "id": "a0885905",
   "metadata": {},
   "source": [
    "\n",
    "\n",
    "---\n",
    "\n",
    "## Shrnutí\n",
    "\n",
    "`list` je **super**, když:\n",
    "\n",
    "- Potřebujete **seřazený seznam hodnot**\n",
    "    \n",
    "- A nevadí vám, že hodnoty jsou „bezejmenné“\n",
    "    \n",
    "- A že můžou být duplicitní nebo se měnit\n",
    "    \n",
    "\n",
    "Ale:\n",
    "\n",
    "❌ Pokud chcete:\n",
    "\n",
    "- Přehlednost (jméno místo čísla)\n",
    "    \n",
    "- Unikátní hodnoty\n",
    "    \n",
    "- Neměnitelnost\n",
    "    \n",
    "\n",
    "… pak bude potřeba něco jiného.\n",
    "\n",
    "---\n",
    "\n",
    "## Co bude dál?\n",
    "\n",
    "Teď jsme si ukázali, že `list` není všemocný.\n",
    "\n",
    "👉 V další části si ukážeme dvě nová „nástroje“:\n",
    "\n",
    "- `dict` – když chcete **přiřadit jménům hodnoty**\n",
    "    \n",
    "- `set` – když chcete **unikátní seznam**\n"
   ]
  }
 ],
 "metadata": {
  "kernelspec": {
   "display_name": ".venv",
   "language": "python",
   "name": "python3"
  },
  "language_info": {
   "codemirror_mode": {
    "name": "ipython",
    "version": 3
   },
   "file_extension": ".py",
   "mimetype": "text/x-python",
   "name": "python",
   "nbconvert_exporter": "python",
   "pygments_lexer": "ipython3",
   "version": "3.13.1"
  }
 },
 "nbformat": 4,
 "nbformat_minor": 5
}
