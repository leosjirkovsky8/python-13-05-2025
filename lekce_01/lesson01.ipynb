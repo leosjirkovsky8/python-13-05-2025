{
 "cells": [
  {
   "cell_type": "markdown",
   "metadata": {},
   "source": [
    "# Python akademie\n",
    "\n",
    "---\n",
    "\n",
    "<br>\n",
    "\n",
    "## Obsah lekce\n",
    "\n",
    "---"
   ]
  },
  {
   "cell_type": "markdown",
   "metadata": {},
   "source": [
    "1. [Prezentace](https://docs.google.com/presentation/d/1NuHm48fFUZUtDmA4_iiRh6gbMiF0nagpBwycan-aY6g/edit?usp=sharing),\n",
    "2. [Python, obecný úvod](#Python,-obecný-úvod),\n",
    "3. [Python, pracovní prostředí](#Python,-pracovní-prostředí),\n",
    "4. [První krůčky](#První-krůčky),\n",
    "5. [Číselné hodnoty](#Číselné-hodnoty),\n",
    "6. [Textové hodnoty](#Textové-hodnoty),\n",
    "7. [Proměnné, odkazy](#Proměnná-v-Pythonu),\n",
    "8. [Sekvence](#Sekvence-list,-tuple),\n",
    "9. [Zabudované funkce](#Úvod-do-funkcí),\n",
    "10. [Domácí úkol](#Domácí-úkol).\n",
    "\n",
    "---"
   ]
  },
  {
   "cell_type": "markdown",
   "metadata": {},
   "source": [
    "<br>\n",
    "\n",
    "## Python, obecný úvod\n",
    "\n",
    "\n",
    "### Co je to **programování**?\n",
    "\n",
    "---\n",
    "\n",
    "Programování, obecně, je postup, kdy se člověk snaží předepsat (obecně vysvětlit) úkol počítači. V nejjednodušším slova smyslu jde o předávání instrukcí počítačům.\n",
    "\n",
    "\n",
    "Instrukcemi myslíme nějaký program (kód), který obsahuje zadání, jak má počítač postupovat.\n",
    "\n"
   ]
  },
  {
   "cell_type": "markdown",
   "metadata": {},
   "source": [
    "<br>\n",
    "\n",
    "### Co je to **programovací jazyk**?\n",
    "\n",
    "---\n",
    "\n",
    "\n",
    "\n",
    "**Jazyk lidí** a **počítačů** je odlišný.\n",
    "\n",
    "Proto je potřeba zavést nějaký **společný jazyk**, aby se obě strany domluvily.\n",
    "\n",
    "\n",
    "Tímto společným jazykem je právě **programovací jazyk**.\n",
    "\n",
    "<img src=\"https://upload.wikimedia.org/wikipedia/commons/2/2d/Programming_language.png\" title=\"source: wikimedia\" width=\"700\" style=\"margin-left:auto; margin-right:auto\" />\n",
    "\n",
    "\n",
    "<br>"
   ]
  },
  {
   "cell_type": "markdown",
   "metadata": {},
   "source": [
    "### Proč se učit **Python**?\n",
    "\n",
    "---\n",
    "Některé programovací jazyky, jako je *Python*, jsou pro člověka **snadněji pochopitelné** (syntaxe čitelnější, lidštější).\n",
    "\n",
    "#### **Python**:"
   ]
  },
  {
   "cell_type": "code",
   "execution_count": 15,
   "metadata": {},
   "outputs": [
    {
     "name": "stdout",
     "output_type": "stream",
     "text": [
      "Hello world!\n"
     ]
    }
   ],
   "source": [
    "print(\"Hello world!\")"
   ]
  },
  {
   "cell_type": "markdown",
   "metadata": {},
   "source": [
    "<br>\n",
    "\n",
    "#### **C**:"
   ]
  },
  {
   "cell_type": "code",
   "execution_count": 16,
   "metadata": {},
   "outputs": [
    {
     "ename": "SyntaxError",
     "evalue": "invalid syntax (3052244208.py, line 3)",
     "output_type": "error",
     "traceback": [
      "  \u001b[36mCell\u001b[39m\u001b[36m \u001b[39m\u001b[32mIn[16]\u001b[39m\u001b[32m, line 3\u001b[39m\n\u001b[31m    \u001b[39m\u001b[31mint main(void) {\u001b[39m\n        ^\n\u001b[31mSyntaxError\u001b[39m\u001b[31m:\u001b[39m invalid syntax\n"
     ]
    }
   ],
   "source": [
    "#include <stdio.h>\n",
    "\n",
    "int main(void) {\n",
    "  printf(\"Hello World\\n\");\n",
    "  return 0;\n",
    "} \n",
    "# => 'Hello World'"
   ]
  },
  {
   "cell_type": "markdown",
   "metadata": {},
   "source": [
    "<br>\n",
    "\n",
    "#### **Javascript**:"
   ]
  },
  {
   "cell_type": "code",
   "execution_count": null,
   "metadata": {},
   "outputs": [],
   "source": [
    "const say_hello = (name) => {\n",
    "  console.log(`Hello, ${name}`);  // template string\n",
    "}\n",
    "\n",
    "say_hello('Matouš')\n",
    "# => 'Hello, Matouš'"
   ]
  },
  {
   "cell_type": "markdown",
   "metadata": {},
   "source": [
    "Python mj. patří k tzv. *vysokoúrovňové programovací jazyky*.\n",
    "\n",
    "Ty jsou sice **vzdálenější k řeči počítačů**, za to jsou **čitelnější pro člověka**.\n",
    "\n",
    "\n",
    "<img src=\"https://i.imgur.com/2cGt5AP.png\" width=\"1500\" style=\"margin-left:auto; margin-right:auto\">\n",
    "\n",
    "Druhou skupinou programovacích jazyků jsou *nízkoúrovňové programovací jazyky* (mají blíže k jedničkám a nulám).\n",
    "\n",
    "<br>"
   ]
  },
  {
   "cell_type": "markdown",
   "metadata": {},
   "source": [
    "Např. jazyky jako **C** nebo **Assembly**, jsou naopak náročnější na **čtení a pochopení**.\n",
    "\n",
    "Proto nejsou zcela vhodné pro úplné **začátky v programování**."
   ]
  },
  {
   "cell_type": "markdown",
   "metadata": {},
   "source": [
    "#### **Demo**: [Stackoverflow comp.](https://insights.stackoverflow.com/survey/2021#most-loved-dreaded-and-wanted-language-want) 👀"
   ]
  },
  {
   "cell_type": "markdown",
   "metadata": {},
   "source": [
    "<br>\n",
    "\n",
    "## Python, pracovní prostředí\n",
    "\n",
    "\n",
    "### Instalace\n",
    "\n",
    "---\n",
    "\n",
    "Na [tomto odkaze](https://www.python.org/downloads/) si vybereš verzi podle tvého operačního systému.\n",
    "\n",
    "<br>\n",
    "\n",
    "Opatrně, není *Python* jako *Python*.\n",
    "\n",
    "Některé operační systémy (Linux, MacOS) mají velmi často **předem nainstalovaný Python se starší verzí (<2.7)**.\n",
    "\n",
    "Díky těmto, dnes již [oficiálně neudržovaným verzím](https://www.python.org/downloads/release/python-2718/) , totiž běží některé původní procesy.\n",
    "\n",
    "<br>\n",
    "\n",
    "Ty budeš pracovat s verzemi **Pythonu 3.8+**, abychom si společně mohli ukázat všechny funkce a procesy, které ve starších verzích nefungovaly.\n",
    "\n",
    "<br>"
   ]
  },
  {
   "cell_type": "markdown",
   "metadata": {},
   "source": [
    "### Instalace, video\n",
    "\n",
    "---"
   ]
  },
  {
   "cell_type": "code",
   "execution_count": null,
   "metadata": {},
   "outputs": [
    {
     "data": {
      "image/jpeg": "[encoded data removed]",
      "text/html": [
       "\n",
       "        <iframe\n",
       "            width=\"700\"\n",
       "            height=\"500\"\n",
       "            src=\"https://www.youtube.com/embed/nzc8lCpWJhk?embed=True\"\n",
       "            frameborder=\"0\"\n",
       "            allowfullscreen\n",
       "            \n",
       "        ></iframe>\n",
       "        "
      ],
      "text/plain": [
       "<IPython.lib.display.YouTubeVideo at 0x10e2b39d0>"
      ]
     },
     "execution_count": 8,
     "metadata": {},
     "output_type": "execute_result"
    }
   ],
   "source": [
    "from IPython.display import YouTubeVideo\n",
    "YouTubeVideo('nzc8lCpWJhk', width=700, height=500, embed=True)\n",
    "\n",
    "# https://youtu.be/nzc8lCpWJhk"
   ]
  },
  {
   "cell_type": "markdown",
   "metadata": {},
   "source": [
    "\n",
    "### Spuštění, kontrola\n",
    "\n",
    "---\n",
    "\n",
    "V **terminálu** / **příkazovém řádku** napíšeš:\n",
    "```\n",
    "python --version\n",
    "```\n",
    "\n",
    "<br>\n",
    "\n",
    "Žádoucí výstup:\n",
    "```\n",
    "Python 3.8.XX\n",
    "```\n"
   ]
  },
  {
   "cell_type": "markdown",
   "metadata": {},
   "source": [
    "### Pracovní prostředí\n",
    "\n",
    "---\n",
    "Pokud už máš nějaké zkušenosti a současně máš nainstalovalovaný Python z předchozí sekce, budeš potřebovat kromě samotného jazyka ještě nějaké **pracovní prostředí**. Teoreticky ti stačí prostý textový editor na tvém počítači, ale existuje spousta šikovnějších nástrojů.\n",
    "\n",
    "**Můžeš si vybrat jednu z těchto možností** (ale konkrétních prostředí je mnohem víc):\n",
    "\n",
    "1. **Interpret** - interaktivní prostředí interpreta přímo v příkazovém řádku tvého počítače. Takto můžeš okamžitě spouštět a ověřovat jednoduché příkazy. (objeví se černá obrazovka se třemi šipkami na začátku posledního řádku `>>>`).\n",
    "\n",
    "<br>\n",
    "\n",
    "2. **Textový editor** - upravený textový editor, který umí formátovat text, napovídat, atd. Na ukázku se můžeš podívat třeba na [Sublime text](https://www.sublimetext.com/) nebo [Atom](https://atom.io/).\n",
    "\n",
    "<br>\n",
    "\n",
    "3. **Vývojařské prostředí** - zkratka **IDE** (Integrated Development Environment) je specializované prostředí obsahující různé nástroje a pomůcky (sofistikovanější, často větší než editor i náročnější na paměť). Podívej se třeba na [PyCharm](https://www.jetbrains.com/pycharm/), [Visual Studio Code](https://code.visualstudio.com/) nebo [replit](https://replit.com/).\n",
    "\n",
    "<br>\n",
    "\n",
    "4. **Notebooky** - speciální prostředí, které umožňuje využít potenciál interpretu a současně zapisovat poznámky, zobrazovat obrázky, grafy aj. Přečíst si můžeš o [projektu Jupyter](https://jupyter.org/) nebo [Google Colaboratory](https://workspace.google.com/marketplace/app/colaboratory/1014160490159).\n",
    "\n",
    "<br>\n",
    "\n",
    "<center><img src=\"https://i.imgur.com/DYubGbr.png\" width=\"1000\"></center>"
   ]
  },
  {
   "cell_type": "markdown",
   "metadata": {},
   "source": [
    "### **Interpret Pythonu**\n",
    "\n",
    "Interpret si můžete představit jako nějaký program. Celý cyklus od zápisu, po jeho provedení probíhá následně:\n",
    "1. Vytvoříme zdrojový kód v Pythonu (s příponou `.py`)\n",
    "2. Spustíme jej pomocí interpretu Pythonu (standartní CPython)\n",
    "3. Interpret řádek po řádku vytvoří tzv. bytecode z vašeho zdrojového kódu\n",
    "4. Interpret pošle nově vytvořený bytecode do virtuálního stroje CPython\n",
    "5. Ten vrací strojový kód, tedy nuly a jedničky přímo pro váš počítač\n",
    "\n",
    "<img src=\"https://i.imgur.com/YXYOE9o.png\" width=\"1000\">\n",
    "<br>\n",
    "<br>\n",
    "<img src=\"https://howto.py.cz/illustrations/compile_interpret.png\" width=\"500\">\n",
    "\n",
    "<br>"
   ]
  },
  {
   "cell_type": "markdown",
   "metadata": {},
   "source": [
    "## První krůčky\n",
    "\n",
    "---\n",
    "\n",
    "Pro naučení jakéhokoliv **programovacího jazyka**, si potřebuješ osvojit znalosti z tzv. **tří teoretických pilířů**.\n",
    "\n",
    "<br>\n",
    "\n",
    "Na těchto pilířích stojí téměř všechny programovací jazyky:\n",
    "1. **Syntaxe** (funkce, podmínky, smyčky, aj.)\n",
    "2. **Datové typy** (čísla, sekvence, aj.)\n",
    "3. **Knihovny** (decimal, aj.)\n",
    "\n",
    "<br>"
   ]
  },
  {
   "cell_type": "markdown",
   "metadata": {},
   "source": [
    "### Zápis v notebooku\n",
    "---"
   ]
  },
  {
   "cell_type": "code",
   "execution_count": null,
   "metadata": {},
   "outputs": [
    {
     "name": "stdout",
     "output_type": "stream",
     "text": [
      "210\n"
     ]
    }
   ],
   "source": [
    "print(111 + 99)   # ANO!"
   ]
  },
  {
   "cell_type": "code",
   "execution_count": null,
   "metadata": {},
   "outputs": [
    {
     "name": "stdout",
     "output_type": "stream",
     "text": [
      "210\n"
     ]
    }
   ],
   "source": [
    "print(111+99)     # ..tady vypisu 210"
   ]
  },
  {
   "cell_type": "markdown",
   "metadata": {},
   "source": [
    "V zápise je vhodné **psát mezery**, aby byl přehlednější. Je to pouze obecně platné doporučení. Výstup bude stejný, pokud je nepoužijeme:"
   ]
  },
  {
   "cell_type": "code",
   "execution_count": null,
   "metadata": {},
   "outputs": [
    {
     "name": "stdout",
     "output_type": "stream",
     "text": [
      "210\n"
     ]
    }
   ],
   "source": [
    "print(111+99)     # NE!"
   ]
  },
  {
   "cell_type": "code",
   "execution_count": null,
   "metadata": {},
   "outputs": [
    {
     "data": {
      "text/plain": [
       "210"
      ]
     },
     "execution_count": 6,
     "metadata": {},
     "output_type": "execute_result"
    }
   ],
   "source": [
    "111 + 99"
   ]
  },
  {
   "cell_type": "markdown",
   "metadata": {},
   "source": [
    "Všimni si symbolu `#`, který jsme použili v obou zápisech výše. Mřížka naznačuje, že jde o **jednořádkový komentář**. Python bude zápis za ní ignorovat, takže ji můžeš využít pro tvoje vlastní vysvětlivky."
   ]
  },
  {
   "cell_type": "markdown",
   "metadata": {},
   "source": [
    "### Zápis v editoru\n",
    "---\n",
    "\n",
    "Pokud zapomeneš doplnit funkci `print`, potom ohlášení proběhne, ale neuvidíš výsledek."
   ]
  },
  {
   "cell_type": "code",
   "execution_count": null,
   "metadata": {},
   "outputs": [],
   "source": [
    "print(111 + 99)"
   ]
  },
  {
   "cell_type": "markdown",
   "metadata": {},
   "source": [
    "<br>\n",
    "\n",
    "## Číselné hodnoty\n",
    "\n",
    "---\n",
    "\n",
    "Mezi dva základní **datové typy**, které pracují s čísly Python rozděluje:\n",
    "1. **Celá čísla**, tedy *integer* (`int`),\n",
    "2. **desetinná čísla**, tedy *float* (`float`).\n",
    "\n",
    "<br>"
   ]
  },
  {
   "cell_type": "markdown",
   "metadata": {},
   "source": [
    "### Běžné aritmetické operace"
   ]
  },
  {
   "cell_type": "code",
   "execution_count": null,
   "metadata": {},
   "outputs": [
    {
     "name": "stdout",
     "output_type": "stream",
     "text": [
      "4\n",
      "4\n",
      "4\n",
      "4.3076923076923075\n"
     ]
    }
   ],
   "source": [
    "print(2 + 2)\n",
    "print(10 - 6)\n",
    "print(2 * 2)\n",
    "print(56 / 13)"
   ]
  },
  {
   "cell_type": "markdown",
   "metadata": {},
   "source": [
    "<br>\n",
    "\n",
    "### Méně známé ar. operace"
   ]
  },
  {
   "cell_type": "markdown",
   "metadata": {},
   "source": [
    "Méně známé operace dostupné v Pythonu:\n",
    "\n",
    "| Operátor | Význam |\n",
    "|:-:|:-|\n",
    "| `//` | celočíselné dělení |\n",
    "| `%` | modulo |\n",
    "| `**` | umocňování |"
   ]
  },
  {
   "cell_type": "code",
   "execution_count": null,
   "metadata": {},
   "outputs": [
    {
     "name": "stdout",
     "output_type": "stream",
     "text": [
      "3.3333333333333335\n"
     ]
    }
   ],
   "source": [
    "print(10 / 3)"
   ]
  },
  {
   "cell_type": "code",
   "execution_count": null,
   "metadata": {},
   "outputs": [
    {
     "name": "stdout",
     "output_type": "stream",
     "text": [
      "3\n"
     ]
    }
   ],
   "source": [
    "print(10 // 3)"
   ]
  },
  {
   "cell_type": "code",
   "execution_count": null,
   "metadata": {},
   "outputs": [
    {
     "name": "stdout",
     "output_type": "stream",
     "text": [
      "2\n"
     ]
    }
   ],
   "source": [
    "print(10 // 4)"
   ]
  },
  {
   "cell_type": "code",
   "execution_count": null,
   "metadata": {},
   "outputs": [
    {
     "name": "stdout",
     "output_type": "stream",
     "text": [
      "1\n"
     ]
    }
   ],
   "source": [
    "print(10 % 3)"
   ]
  },
  {
   "cell_type": "code",
   "execution_count": null,
   "metadata": {},
   "outputs": [
    {
     "name": "stdout",
     "output_type": "stream",
     "text": [
      "2\n"
     ]
    }
   ],
   "source": [
    "print(11 % 3)"
   ]
  },
  {
   "cell_type": "code",
   "execution_count": null,
   "metadata": {},
   "outputs": [
    {
     "name": "stdout",
     "output_type": "stream",
     "text": [
      "4\n",
      "32\n"
     ]
    }
   ],
   "source": [
    "print(2 ** 2)  # sec.power\n",
    "print(2 ** 5)"
   ]
  },
  {
   "cell_type": "markdown",
   "metadata": {},
   "source": [
    "<br>\n",
    "\n",
    "### 🧠 CVIČENÍ 1 🧠, číselné datové typy\n",
    "\n",
    "---\n",
    "\n",
    "Doplň, tak ať výstup odpovídá hodnotě v komentáři:"
   ]
  },
  {
   "cell_type": "code",
   "execution_count": null,
   "metadata": {},
   "outputs": [],
   "source": [
    "print(10 _ 10)   #  = 100\n",
    "print(9 _ 1)     #  = 8\n",
    "print(121 _ 3)   #  = 40.333\n",
    "print(2 __ 5)    #  = 32\n",
    "print(17 _ 15)   #  = 2\n",
    "print(56 _ 13)   #  = 4.3076\n",
    "print(8 _ 8)     #  = 64"
   ]
  },
  {
   "cell_type": "markdown",
   "metadata": {},
   "source": [
    "<details>\n",
    "    <summary>▶️ Řešení</summary>\n",
    "    \n",
    "```python\n",
    "print(10 * 10)   #  = 100\n",
    "print(9 - 1)     #  = 8\n",
    "print(121 / 3)  #  = 11.0\n",
    "print(2 ** 5)    #  = 32\n",
    "print(17 % 15)   #  = 2\n",
    "print(56 // 13)  #  = 4\n",
    "print(8 + 8.1)   #  = 16.1\n",
    "```\n",
    "\n",
    "</details>"
   ]
  },
  {
   "cell_type": "code",
   "execution_count": null,
   "metadata": {},
   "outputs": [],
   "source": [
    "# Řešení"
   ]
  },
  {
   "cell_type": "markdown",
   "metadata": {},
   "source": [
    "<br>\n",
    "\n",
    "### Potíž s typem float"
   ]
  },
  {
   "cell_type": "code",
   "execution_count": null,
   "metadata": {},
   "outputs": [
    {
     "name": "stdout",
     "output_type": "stream",
     "text": [
      "0.30000000000000004\n"
     ]
    }
   ],
   "source": [
    "print(0.1 + 0.2)  # .2 + .1 --> 0.3"
   ]
  },
  {
   "cell_type": "markdown",
   "metadata": {},
   "source": [
    "Občas se při práci s **desetinnými čísly** setkáš s fenoménem známým jako **plovoucí řádová čárka**.\n",
    "\n",
    "Ten je způsobený tím, že některá desetinná čísla nemají odpovídající **binární tvar**. Proto jsou použity přibližné hodnoty.\n",
    "\n",
    "<br>\n",
    "\n",
    "Nemusíš se ničeho obávat, není to chyba na tvé straně, ale obecný fakt. Pokud budeš do budoucna potřebovat práci s **přesnými desetinnými čísly**, doporučujeme pracovat s knihovnou `decimal` (o práci s knihovnami se budeme bavit v pozdějších lekcích)\n"
   ]
  },
  {
   "cell_type": "markdown",
   "metadata": {},
   "source": [
    "<details>\n",
    "  <summary> <b>⚡ Pokročilé, zde pouze na ukázku</b> </summary>\n",
    "\n",
    "```python\n",
    "import decimal  # pokrocily material\n",
    "\n",
    "decimal.getcontext().prec = 5\n",
    "decimal.Decimal(1) / decimal.Decimal(3)\n",
    "\n",
    "type(decimal.Decimal(3))\n",
    "```\n",
    "</details>"
   ]
  },
  {
   "cell_type": "markdown",
   "metadata": {},
   "source": [
    "<br>\n",
    "\n",
    "### Hierarchie matematických operátorů\n",
    "\n",
    "---\n",
    "\n",
    "Dávej pozor **na pořadí**, ve kterém interpret počítá s různými operátory."
   ]
  },
  {
   "cell_type": "code",
   "execution_count": null,
   "metadata": {},
   "outputs": [
    {
     "name": "stdout",
     "output_type": "stream",
     "text": [
      "8\n"
     ]
    }
   ],
   "source": [
    "print(2 + 3 * 2)"
   ]
  },
  {
   "cell_type": "code",
   "execution_count": null,
   "metadata": {},
   "outputs": [
    {
     "name": "stdout",
     "output_type": "stream",
     "text": [
      "10\n"
     ]
    }
   ],
   "source": [
    "print((2 + 3) * 2)  # nejprve sčítání"
   ]
  },
  {
   "cell_type": "markdown",
   "metadata": {},
   "source": [
    "\n",
    "| Pořadí | Operátor | Proces |\n",
    "|:-:|:-:|:-|\n",
    "| 1. | `()` | závorky |\n",
    "| 2. | `**` | umocňování |\n",
    "| 3. | `*` | násobení |\n",
    "| 4. | `/` | dělení |\n",
    "| 5. | `+` | sčítání |\n",
    "| 6. | `-` | odčítaní |"
   ]
  },
  {
   "cell_type": "markdown",
   "metadata": {},
   "source": [
    "### Jak ověřím datový typ\n",
    "\n",
    "---"
   ]
  },
  {
   "cell_type": "code",
   "execution_count": null,
   "metadata": {},
   "outputs": [
    {
     "name": "stdout",
     "output_type": "stream",
     "text": [
      "<class 'int'>\n"
     ]
    }
   ],
   "source": [
    "print(type(11))"
   ]
  },
  {
   "cell_type": "code",
   "execution_count": null,
   "metadata": {},
   "outputs": [
    {
     "name": "stdout",
     "output_type": "stream",
     "text": [
      "<class 'float'>\n"
     ]
    }
   ],
   "source": [
    "print(type(10.1))  # float?"
   ]
  },
  {
   "cell_type": "markdown",
   "metadata": {},
   "source": [
    "**Desetinný oddělovač**"
   ]
  },
  {
   "cell_type": "markdown",
   "metadata": {},
   "source": [
    "## Textové hodnoty\n",
    "\n",
    "---\n",
    "\n",
    "**String**, tedy **řetězec** je různě dlouhé uskupení znaků (písmen, čísel, speciálních symbolů).\n",
    "\n",
    "Ukázka datového typu `str`:"
   ]
  },
  {
   "cell_type": "code",
   "execution_count": null,
   "metadata": {},
   "outputs": [
    {
     "name": "stdout",
     "output_type": "stream",
     "text": [
      "Ahoj, tady Matous\n"
     ]
    }
   ],
   "source": [
    "print(\"Ahoj, tady Matous\")"
   ]
  },
  {
   "cell_type": "code",
   "execution_count": null,
   "metadata": {},
   "outputs": [
    {
     "name": "stdout",
     "output_type": "stream",
     "text": [
      "<class 'str'>\n"
     ]
    }
   ],
   "source": [
    "print(type(\"Ahoj, tady Matous\"))"
   ]
  },
  {
   "cell_type": "markdown",
   "metadata": {},
   "source": [
    "Dále se označuje jako **sekvence**, kterou jakmile jednou vytvoříme nelze změnit (z angl. *immutable*).\n"
   ]
  },
  {
   "cell_type": "markdown",
   "metadata": {},
   "source": [
    "<br>\n",
    "\n",
    "### Jak napsat string\n",
    "\n",
    "---"
   ]
  },
  {
   "cell_type": "code",
   "execution_count": null,
   "metadata": {},
   "outputs": [
    {
     "name": "stdout",
     "output_type": "stream",
     "text": [
      "matous\n",
      "matous\n"
     ]
    }
   ],
   "source": [
    "print('matous')\n",
    "print(\"matous\")"
   ]
  },
  {
   "cell_type": "code",
   "execution_count": null,
   "metadata": {},
   "outputs": [
    {
     "ename": "SyntaxError",
     "evalue": "EOL while scanning string literal (4091007991.py, line 1)",
     "output_type": "error",
     "traceback": [
      "\u001b[0;36m  Cell \u001b[0;32mIn[24], line 1\u001b[0;36m\u001b[0m\n\u001b[0;31m    print('matous\")\u001b[0m\n\u001b[0m                   ^\u001b[0m\n\u001b[0;31mSyntaxError\u001b[0m\u001b[0;31m:\u001b[0m EOL while scanning string literal\n"
     ]
    }
   ],
   "source": [
    "print('matous\")"
   ]
  },
  {
   "cell_type": "code",
   "execution_count": null,
   "metadata": {},
   "outputs": [],
   "source": [
    "print('''matous''')  # speciální význam\n",
    "print(\"\"\"matous\"\"\")  # ..."
   ]
  },
  {
   "cell_type": "markdown",
   "metadata": {},
   "source": [
    "<br>\n",
    "\n",
    "### Opatrně na uvozovky"
   ]
  },
  {
   "cell_type": "code",
   "execution_count": null,
   "metadata": {},
   "outputs": [],
   "source": [
    "print(\"matous')"
   ]
  },
  {
   "cell_type": "code",
   "execution_count": null,
   "metadata": {},
   "outputs": [
    {
     "ename": "SyntaxError",
     "evalue": "invalid syntax (3483918293.py, line 1)",
     "output_type": "error",
     "traceback": [
      "\u001b[0;36m  Cell \u001b[0;32mIn[25], line 1\u001b[0;36m\u001b[0m\n\u001b[0;31m    print('zapisuji apostrof's')\u001b[0m\n\u001b[0m                             ^\u001b[0m\n\u001b[0;31mSyntaxError\u001b[0m\u001b[0;31m:\u001b[0m invalid syntax\n"
     ]
    }
   ],
   "source": [
    "print('zapisuji apostrof's')"
   ]
  },
  {
   "cell_type": "code",
   "execution_count": null,
   "metadata": {},
   "outputs": [
    {
     "name": "stdout",
     "output_type": "stream",
     "text": [
      "zapisuji apostrof's\n"
     ]
    }
   ],
   "source": [
    "print(\"zapisuji apostrof's\")"
   ]
  },
  {
   "cell_type": "code",
   "execution_count": null,
   "metadata": {},
   "outputs": [
    {
     "name": "stdout",
     "output_type": "stream",
     "text": [
      "zapisuji apostrof's\n"
     ]
    }
   ],
   "source": [
    "print('zapisuji apostrof\\'s')  # '\\' -> escape char."
   ]
  },
  {
   "cell_type": "code",
   "execution_count": null,
   "metadata": {},
   "outputs": [
    {
     "name": "stdout",
     "output_type": "stream",
     "text": [
      "zapisuji apostrof's\n"
     ]
    }
   ],
   "source": [
    "print(\"zapisuji apostrof\\'s\")  # '\\' -> escape char."
   ]
  },
  {
   "cell_type": "markdown",
   "metadata": {},
   "source": [
    "Použití **speciálních symbolů** souvisejících se zpětným lomítkem je víc. Jsou to tzv. **escape characters**. V tabulce níž najdeš soupis těch nejčastějších:\n",
    "\n",
    "<br>\n",
    "\n",
    "| Speciální znak | Význam |\n",
    "| :-: | :-: |\n",
    "| `\\'` | Apostrof |\n",
    "| \\\\ |\tZpětné lomítko |\n",
    "| \\n |\tNový řádek |\n",
    "| \\r |\t*Return carriage* |\n",
    "| \\t |\tTabulátor |\n",
    "| \\b |\t*Backspace* |\n",
    "| \\f |\t*Form feed* |"
   ]
  },
  {
   "cell_type": "code",
   "execution_count": null,
   "metadata": {},
   "outputs": [
    {
     "name": "stdout",
     "output_type": "stream",
     "text": [
      "\n",
      "prvni radek,\n",
      "druhy radek.\n",
      "\n"
     ]
    }
   ],
   "source": [
    "print(\"\"\"\n",
    "prvni radek,\n",
    "druhy radek.\n",
    "\"\"\")"
   ]
  },
  {
   "cell_type": "code",
   "execution_count": null,
   "metadata": {},
   "outputs": [
    {
     "name": "stdout",
     "output_type": "stream",
     "text": [
      "prvni radek,\n",
      "druhy radek.\n"
     ]
    }
   ],
   "source": [
    "print(\"\"\"prvni radek,\n",
    "druhy radek.\"\"\")"
   ]
  },
  {
   "cell_type": "code",
   "execution_count": null,
   "metadata": {},
   "outputs": [],
   "source": [
    "print('''\n",
    "prvni radek,\n",
    "druhy radek.\n",
    "'''\n",
    ")"
   ]
  },
  {
   "cell_type": "markdown",
   "metadata": {},
   "source": [
    "<br>\n",
    "\n",
    "### Nemíchat různé datové typy\n",
    "\n",
    "---"
   ]
  },
  {
   "cell_type": "code",
   "execution_count": null,
   "metadata": {},
   "outputs": [
    {
     "name": "stdout",
     "output_type": "stream",
     "text": [
      "4\n"
     ]
    }
   ],
   "source": [
    "print(2 + 2)      # int + int"
   ]
  },
  {
   "cell_type": "code",
   "execution_count": null,
   "metadata": {
    "scrolled": true
   },
   "outputs": [
    {
     "name": "stdout",
     "output_type": "stream",
     "text": [
      "22\n"
     ]
    }
   ],
   "source": [
    "print(\"2\" + \"2\")  # str + str --> concatenation"
   ]
  },
  {
   "cell_type": "code",
   "execution_count": null,
   "metadata": {},
   "outputs": [
    {
     "name": "stdout",
     "output_type": "stream",
     "text": [
      "<class 'str'>\n"
     ]
    }
   ],
   "source": [
    "print(type(\"2\" + \"2\"))"
   ]
  },
  {
   "cell_type": "code",
   "execution_count": null,
   "metadata": {},
   "outputs": [
    {
     "ename": "TypeError",
     "evalue": "unsupported operand type(s) for +: 'int' and 'str'",
     "output_type": "error",
     "traceback": [
      "\u001b[0;31m---------------------------------------------------------------------------\u001b[0m",
      "\u001b[0;31mTypeError\u001b[0m                                 Traceback (most recent call last)",
      "Cell \u001b[0;32mIn[34], line 1\u001b[0m\n\u001b[0;32m----> 1\u001b[0m \u001b[38;5;28mprint\u001b[39m(\u001b[38;5;241;43m2\u001b[39;49m\u001b[43m \u001b[49m\u001b[38;5;241;43m+\u001b[39;49m\u001b[43m \u001b[49m\u001b[38;5;124;43m\"\u001b[39;49m\u001b[38;5;124;43m2\u001b[39;49m\u001b[38;5;124;43m\"\u001b[39;49m)    \u001b[38;5;66;03m# int + str\u001b[39;00m\n",
      "\u001b[0;31mTypeError\u001b[0m: unsupported operand type(s) for +: 'int' and 'str'"
     ]
    }
   ],
   "source": [
    "print(2 + \"2\")    # int + str"
   ]
  },
  {
   "cell_type": "markdown",
   "metadata": {},
   "source": [
    "<br>\n",
    "\n",
    "### Změna datového typu za jiný\n",
    "\n",
    "---"
   ]
  },
  {
   "cell_type": "code",
   "execution_count": null,
   "metadata": {},
   "outputs": [
    {
     "name": "stdout",
     "output_type": "stream",
     "text": [
      "<class 'str'>\n"
     ]
    }
   ],
   "source": [
    "print(type(\"2\"))\n",
    "# Vrátí <class 'str'>, protože \"2\" je řetězec (string), tedy textový datový typ."
   ]
  },
  {
   "cell_type": "code",
   "execution_count": null,
   "metadata": {},
   "outputs": [
    {
     "name": "stdout",
     "output_type": "stream",
     "text": [
      "<class 'int'>\n"
     ]
    }
   ],
   "source": [
    "print(type(int(\"2\")))       # řetězení zabudovaných funkcí\n",
    "# Převádí řetězec \"2\" na celé číslo (int), což je celé číslo bez desetinné části.\n",
    "# Výsledek: <class 'int'>"
   ]
  },
  {
   "cell_type": "code",
   "execution_count": null,
   "metadata": {},
   "outputs": [
    {
     "name": "stdout",
     "output_type": "stream",
     "text": [
      "<class 'float'>\n"
     ]
    }
   ],
   "source": [
    "print(type(float(\"2\")))     # ...\n",
    "# Převádí řetězec \"2\" na desetinné číslo (float), tedy číslo s desetinnou částí.\n",
    "# Výsledek: <class 'float'>"
   ]
  },
  {
   "cell_type": "code",
   "execution_count": null,
   "metadata": {},
   "outputs": [
    {
     "name": "stdout",
     "output_type": "stream",
     "text": [
      "<class 'float'>\n",
      "<class 'str'>\n"
     ]
    }
   ],
   "source": [
    "print(type(float(2)))\n",
    "print(type(str(2.11)))\n",
    "# První řádek převádí celé číslo 2 na desetinné číslo (float), výsledek: <class 'float'>\n",
    "# Druhý řádek převádí desetinné číslo 2.11 na řetězec (str), výsledek: <class 'str'>"
   ]
  },
  {
   "cell_type": "code",
   "execution_count": null,
   "metadata": {},
   "outputs": [
    {
     "name": "stdout",
     "output_type": "stream",
     "text": [
      "<class 'str'>\n"
     ]
    }
   ],
   "source": [
    "print(type(str(2.11)))\n",
    "# Převádí desetinné číslo 2.11 na textový řetězec (str).\n",
    "# Výsledek: <class 'str'>"
   ]
  },
  {
   "cell_type": "code",
   "execution_count": null,
   "metadata": {},
   "outputs": [
    {
     "ename": "ValueError",
     "evalue": "invalid literal for int() with base 10: 'matous'",
     "output_type": "error",
     "traceback": [
      "\u001b[0;31m---------------------------------------------------------------------------\u001b[0m",
      "\u001b[0;31mValueError\u001b[0m                                Traceback (most recent call last)",
      "Cell \u001b[0;32mIn[39], line 1\u001b[0m\n\u001b[0;32m----> 1\u001b[0m \u001b[38;5;28mprint\u001b[39m(\u001b[38;5;28mtype\u001b[39m(\u001b[38;5;28;43mint\u001b[39;49m\u001b[43m(\u001b[49m\u001b[38;5;124;43m\"\u001b[39;49m\u001b[38;5;124;43mmatous\u001b[39;49m\u001b[38;5;124;43m\"\u001b[39;49m\u001b[43m)\u001b[49m))  \u001b[38;5;66;03m# ne každou hodnotu lze \"přetypovat\"\u001b[39;00m\n",
      "\u001b[0;31mValueError\u001b[0m: invalid literal for int() with base 10: 'matous'"
     ]
    }
   ],
   "source": [
    "print(type(int(\"matous\")))  # ne každou hodnotu lze \"přetypovat\"\n",
    "# Pokus o převod textového řetězce \"matous\" na celé číslo (int), což není možné."
   ]
  },
  {
   "cell_type": "code",
   "execution_count": null,
   "metadata": {},
   "outputs": [
    {
     "name": "stdout",
     "output_type": "stream",
     "text": [
      "1969\n"
     ]
    }
   ],
   "source": [
    "# ukázka, kde se mi převádění typů hodí\n",
    "print(2000 - int(\"31\"))\n",
    "# Převádí řetězec \"31\" na celé číslo (int), poté provádí matematickou operaci."
   ]
  },
  {
   "cell_type": "markdown",
   "metadata": {},
   "source": [
    "Funkce int() v Pythonu očekává řetězec, který reprezentuje celé číslo.\n",
    "\n",
    "Řetězec \"1.0000\" obsahuje desetinnou tečku, což není celé číslo."
   ]
  },
  {
   "cell_type": "code",
   "execution_count": null,
   "metadata": {},
   "outputs": [
    {
     "ename": "ValueError",
     "evalue": "invalid literal for int() with base 10: '1.0000'",
     "output_type": "error",
     "traceback": [
      "\u001b[31m---------------------------------------------------------------------------\u001b[39m",
      "\u001b[31mValueError\u001b[39m                                Traceback (most recent call last)",
      "\u001b[36mCell\u001b[39m\u001b[36m \u001b[39m\u001b[32mIn[18]\u001b[39m\u001b[32m, line 2\u001b[39m\n\u001b[32m      1\u001b[39m \u001b[38;5;66;03m# tabulky, nekonzistence dat\u001b[39;00m\n\u001b[32m----> \u001b[39m\u001b[32m2\u001b[39m \u001b[38;5;28mprint\u001b[39m(\u001b[38;5;28;43mint\u001b[39;49m\u001b[43m(\u001b[49m\u001b[33;43m\"\u001b[39;49m\u001b[33;43m1.0000\u001b[39;49m\u001b[33;43m\"\u001b[39;49m\u001b[43m)\u001b[49m)\n",
      "\u001b[31mValueError\u001b[39m: invalid literal for int() with base 10: '1.0000'"
     ]
    }
   ],
   "source": [
    "print(int(\"1.0000\"))"
   ]
  },
  {
   "cell_type": "code",
   "execution_count": null,
   "metadata": {},
   "outputs": [
    {
     "ename": "ValueError",
     "evalue": "could not convert string to float: '2 000'",
     "output_type": "error",
     "traceback": [
      "\u001b[0;31m---------------------------------------------------------------------------\u001b[0m",
      "\u001b[0;31mValueError\u001b[0m                                Traceback (most recent call last)",
      "Cell \u001b[0;32mIn[42], line 1\u001b[0m\n\u001b[0;32m----> 1\u001b[0m \u001b[38;5;28mprint\u001b[39m(\u001b[38;5;28mtype\u001b[39m(\u001b[38;5;28;43mfloat\u001b[39;49m\u001b[43m(\u001b[49m\u001b[38;5;124;43m\"\u001b[39;49m\u001b[38;5;124;43m2 000\u001b[39;49m\u001b[38;5;124;43m\"\u001b[39;49m\u001b[43m)\u001b[49m))    \u001b[38;5;66;03m# ne každou hodnotu lze \"přetypovat\"\u001b[39;00m\n",
      "\u001b[0;31mValueError\u001b[0m: could not convert string to float: '2 000'"
     ]
    }
   ],
   "source": [
    "print(type(float(\"2 000\")))    # ne každou hodnotu lze \"přetypovat\"\n",
    "# Pokus o převod řetězce \"2 000\" na desetinné číslo (float).\n",
    "# Mezera v čísle není povolena, Python to vnímá jako text."
   ]
  },
  {
   "cell_type": "code",
   "execution_count": null,
   "metadata": {},
   "outputs": [
    {
     "name": "stdout",
     "output_type": "stream",
     "text": [
      "1000000\n"
     ]
    }
   ],
   "source": [
    "print(1_000_000)            # pomocný oddělovač řádů"
   ]
  },
  {
   "cell_type": "markdown",
   "metadata": {},
   "source": [
    "<br>\n",
    "\n",
    "### Další procesy u stringů\n",
    "\n",
    "---\n",
    "Usnadňují další práci s datovým typem `str`:\n",
    "1. Spojování,\n",
    "2. opakování,\n",
    "3. indexování,\n",
    "4. slicing,\n",
    "5. striding,\n",
    "6. rozšiřující **metody**."
   ]
  },
  {
   "cell_type": "markdown",
   "metadata": {},
   "source": [
    "<br>\n",
    "\n",
    "### **Spojování (concatenation)**\n",
    "Jde o proces, kdy použijeme operátor `+`, kdy po obou stranách operátoru máme string."
   ]
  },
  {
   "cell_type": "code",
   "execution_count": null,
   "metadata": {},
   "outputs": [
    {
     "name": "stdout",
     "output_type": "stream",
     "text": [
      "Matouš Holinka\n"
     ]
    }
   ],
   "source": [
    "# spojování ~ concatenation, bez třetího stringu\n",
    "print(\"Matouš \" + \"Holinka\")"
   ]
  },
  {
   "cell_type": "code",
   "execution_count": null,
   "metadata": {},
   "outputs": [
    {
     "name": "stdout",
     "output_type": "stream",
     "text": [
      "Matouš Holinka\n"
     ]
    }
   ],
   "source": [
    "# spojování ~ concatenation, s třetím stringem\n",
    "print(\"Matouš\" + \" \" + \"Holinka\")"
   ]
  },
  {
   "cell_type": "markdown",
   "metadata": {},
   "source": [
    "<br>\n",
    "\n",
    "### **Opakování (~*repetition*)**\n",
    "Jde o proces, kdy zadaný string vypíšeme n-krát po sobě (~*repetition*)\n",
    "```bash\n",
    "\"str\" * n\n",
    "```"
   ]
  },
  {
   "cell_type": "code",
   "execution_count": null,
   "metadata": {},
   "outputs": [
    {
     "name": "stdout",
     "output_type": "stream",
     "text": [
      "# # # # # \n"
     ]
    }
   ],
   "source": [
    "# opakování ~ repetition\n",
    "print(\"#\" * 5)"
   ]
  },
  {
   "cell_type": "code",
   "execution_count": null,
   "metadata": {},
   "outputs": [
    {
     "name": "stdout",
     "output_type": "stream",
     "text": [
      "==========\n"
     ]
    }
   ],
   "source": [
    "print('=' * 10)"
   ]
  },
  {
   "cell_type": "markdown",
   "metadata": {},
   "source": [
    "<br>\n",
    "\n",
    "## **Indexování**\n",
    "Znaky, ze kterých je string složený, mají **pořadí**. Toto pořadí je určené celým čísel, tzv. *index*. Pomocí tohoto indexu máme možnost vybrat konkrétní znak.\n",
    "\n",
    "Pokud chceme získat jen část z původního stringu, můžete si ji \"vyříznout\" (*slicing*):\n",
    "\n",
    "<img src=\"https://i.imgur.com/6NkA2nC.png\" width=\"900\">\n",
    "\n",
    "\n",
    "<br>\n",
    "\n",
    "Ihned za konkrétní hodnotu napíšeme hranatou závorku a do ní celé číslo indexu, který potřebujeme:"
   ]
  },
  {
   "cell_type": "code",
   "execution_count": null,
   "metadata": {},
   "outputs": [
    {
     "name": "stdout",
     "output_type": "stream",
     "text": [
      "M\n"
     ]
    }
   ],
   "source": [
    "# indexování\n",
    "print(\"Matouš\"[0])"
   ]
  },
  {
   "cell_type": "markdown",
   "metadata": {},
   "source": [
    "Příklad výš můžeš přečíst jako *Ze stringu autobus mi vypiš znak na indexu* `1`. Z toho vyplývá, že indexování obecně začíná celým číslem `0`, tedy první znak."
   ]
  },
  {
   "cell_type": "code",
   "execution_count": null,
   "metadata": {},
   "outputs": [],
   "source": [
    "print(\"AUTOBUS\"[0])"
   ]
  },
  {
   "cell_type": "code",
   "execution_count": null,
   "metadata": {},
   "outputs": [],
   "source": [
    "print(\"AUTOBUS\"[2])"
   ]
  },
  {
   "cell_type": "code",
   "execution_count": null,
   "metadata": {},
   "outputs": [],
   "source": [
    "print(\"AUTOBUS\"[3])"
   ]
  },
  {
   "cell_type": "code",
   "execution_count": null,
   "metadata": {},
   "outputs": [],
   "source": [
    "print(\"AUTOBUS\"[-1])"
   ]
  },
  {
   "cell_type": "markdown",
   "metadata": {},
   "source": [
    "Pokud budeš potřebovat indexovat **od konce**, můžeš pracovat s negativním indexem. Poslední hodnotu získáš pomocí indexu `-1`, předposlední hodnotu pomocí indexu `-2`, atd."
   ]
  },
  {
   "cell_type": "markdown",
   "metadata": {},
   "source": [
    "<details>\n",
    "  <summary> 💡 Pro zvědavé: proč se indexuje od nuly?</summary>\n",
    "\n",
    "\n",
    "\n",
    "\n",
    "Většina programovacích jazyků indexuje pole, seznamy a další datové struktury začínající nulou, což znamená, že první prvek má index 0. Nicméně některé jazyky, jako například Fortran, MATLAB, R a Julia, mají indexaci začínající jedničkou. Je důležité si uvědomit, že většina jazyků podporuje změnu počátečního indexu pro určité datové struktury, pokud je to nutné nebo žádoucí.\n",
    "\n",
    "Existuje několik důvodů, proč se v mnoha programovacích jazycích indexuje od nuly:\n",
    "\n",
    "1. Jednoduchost a konzistence: Pokud začínáme indexování od nuly, můžeme jednoduše vypočítat pozici v paměti každého prvku v poli pomocí aritmetických operací (adresa_prvního_prvku + velikost_prvku * index_prvku). To zjednodušuje práci pro programátory a přispívá ke konzistenci v rámci jazyka.\n",
    "\n",
    "2. Historické důvody: Některé rané programovací jazyky (např. BCPL) používaly indexaci začínající nulou, což se postupně stalo standardem v mnoha dalších jazycích.\n",
    "\n",
    "3. Bezpečnost: Pokud začínáme indexování od jedničky, může dojít k omylu, když programátor neví, že indexování v jeho jazyce začíná od jedničky, a přistoupí k prvnímu prvku jako k indexu nula, což může způsobit neočekávané chování programu a dokonce i chybu.\n",
    "\n",
    "Nicméně, indexace od jedničky může být v některých případech výhodná, například v matematických disciplínách, kde se běžně indexuje od jedničky.\n",
    "\n",
    "</details>"
   ]
  },
  {
   "cell_type": "markdown",
   "metadata": {},
   "source": [
    "## **Slicing - část stringu**\n",
    "Pokud budete potřebovat pracovat pouze s částí datového typu `str`, můžete jej rozkrájet (z angl. slicing).\n",
    "\n",
    "Stejně jako u **indexování** použijeme hranatou závorku. Tentokrát ji doplníme **dvojtečkou** a **dalším celým číslem**. První hodnota je potom **počáteční index**, druhá hodnota je **konečný index**.\n",
    "\n",
    "<br>\n",
    "\n",
    "Opatrně **druhý index** je braný **nepřímo**, takže abys získal znak z indexu `6`, musíš napsat číslo `7`:"
   ]
  },
  {
   "cell_type": "code",
   "execution_count": null,
   "metadata": {},
   "outputs": [
    {
     "name": "stdout",
     "output_type": "stream",
     "text": [
      "matous\n"
     ]
    }
   ],
   "source": [
    "# slicing\n",
    "print(\"matous.holinka@gmail.com\"[0:6])  # <0, 4>"
   ]
  },
  {
   "cell_type": "markdown",
   "metadata": {},
   "source": [
    "\n",
    "Dále je možné **zápis zkrátit**. Pokud si budeš zápisem s pomocí indexů jistý, můžeš vyzkoušet následující:\n",
    "\n",
    "1. `\"autobus\"[:2]` - vynecháš první index a začneš dvojtečkou (původně `[0:2]`)\n",
    "2. `\"autobus\"[2:]` - vynecháš druhý index a končíš dvojtečkou (původně `[2:7]`)"
   ]
  },
  {
   "cell_type": "code",
   "execution_count": null,
   "metadata": {},
   "outputs": [],
   "source": [
    "print(\"AUTOBUS\"[0:2])      # první dvě písmena"
   ]
  },
  {
   "cell_type": "code",
   "execution_count": null,
   "metadata": {},
   "outputs": [],
   "source": [
    "print(\"AUTOBUS\"[:2])       # první dvě písmena, zápis jedním číslem"
   ]
  },
  {
   "cell_type": "code",
   "execution_count": null,
   "metadata": {},
   "outputs": [],
   "source": [
    "print(\"AUTOBUS\"[2:7])      # od třetího písmena do konce"
   ]
  },
  {
   "cell_type": "code",
   "execution_count": null,
   "metadata": {},
   "outputs": [],
   "source": [
    "print(\"AUTOBUS\"[2:])"
   ]
  },
  {
   "cell_type": "code",
   "execution_count": null,
   "metadata": {},
   "outputs": [],
   "source": [
    "print(\"AUTOBUS\"[2:10])"
   ]
  },
  {
   "cell_type": "markdown",
   "metadata": {},
   "source": [
    "## **Striding**\n",
    "Nakonec operace známá jako **přeskakování** (~*striding*), umožňuje získat každý n-tý údaj ze stringu.\n",
    "\n",
    "<br>\n",
    "Formát zápisu je:\n",
    "řetězec[start:stop:step]\n",
    "\n",
    "start - odkud začít (včetně)\n",
    "\n",
    "stop - kde skončit (konec je vyloučen)\n",
    "\n",
    "step - krok, jak často vzít další znak\n",
    "\n",
    "<br>\n",
    "\n",
    "Doplníme **třetí celočíselnou hodnotu** do hranaté závorky, oddělenou dvojtečkou:"
   ]
  },
  {
   "cell_type": "code",
   "execution_count": null,
   "metadata": {},
   "outputs": [
    {
     "name": "stdout",
     "output_type": "stream",
     "text": [
      "ao\n"
     ]
    }
   ],
   "source": [
    "# striding\n",
    "print(\"Matouš\"[1:4:2])\n",
    "# Vezme každý druhý znak mezi indexy 1 a 4."
   ]
  },
  {
   "cell_type": "markdown",
   "metadata": {},
   "source": [
    "Opět je možné zápis **zkrátit**. Vynech hodnoty indexů pro **počátek** a **konec**. Zapíšeš pouze dvě dvojtečky a poslední hodnotu pro **přeskakování**:"
   ]
  },
  {
   "cell_type": "code",
   "execution_count": null,
   "metadata": {},
   "outputs": [
    {
     "name": "stdout",
     "output_type": "stream",
     "text": [
      "Mtu\n"
     ]
    }
   ],
   "source": [
    "print(\"Matouš\"[::2])\n",
    "# Pokud vynecháš počáteční a koncový index, Python vezme celý řetězec, ale s daným krokem. V tomto případě každý druhý znak."
   ]
  },
  {
   "cell_type": "markdown",
   "metadata": {},
   "source": [
    "Hodnota 2 zapsaná v hranaté závorce výš říká, že vezme nejprve index 1, a potom každý druhý index (tedy indexy 3)."
   ]
  },
  {
   "cell_type": "code",
   "execution_count": null,
   "metadata": {},
   "outputs": [
    {
     "name": "stdout",
     "output_type": "stream",
     "text": [
      "aoš\n"
     ]
    }
   ],
   "source": [
    "# striding\n",
    "print(\"Matouš\"[1::2])\n",
    "# Začíná na indexu 1 (a) a pokračuje až do konce řetězce, přeskakuje každý druhý znak."
   ]
  },
  {
   "cell_type": "markdown",
   "metadata": {},
   "source": [
    "Dokonce můžeš použít **zápornou hodnotu** pro přeskakování pozpátku:"
   ]
  },
  {
   "cell_type": "code",
   "execution_count": null,
   "metadata": {},
   "outputs": [],
   "source": [
    "print(\"AUTOBUS\"[::-1])  # obracene poradi, zacne 's', jeden znak za druhym"
   ]
  },
  {
   "cell_type": "code",
   "execution_count": null,
   "metadata": {},
   "outputs": [],
   "source": [
    "print(\"AUTOBUS\"[::-2])  # obracene poradi, zacne 's', pote kazdy druhy znak"
   ]
  },
  {
   "cell_type": "code",
   "execution_count": null,
   "metadata": {},
   "outputs": [],
   "source": [
    "print(\"AUTOBUS\"[::-3])  # obracene poradi, zacne 's', pote kazdy treti znak"
   ]
  },
  {
   "cell_type": "code",
   "execution_count": null,
   "metadata": {},
   "outputs": [],
   "source": [
    "print(\"AUTOBUS\"[3:-1])"
   ]
  },
  {
   "cell_type": "markdown",
   "metadata": {},
   "source": [
    "### 🧠 CVIČENÍ 2 🧠, stringy\n",
    "\n",
    "---\n",
    "\n",
    "Doplň, tak ať výstup odpovídá hodnotě v komentáři:"
   ]
  },
  {
   "cell_type": "code",
   "execution_count": null,
   "metadata": {},
   "outputs": [],
   "source": [
    "# Najdi a vypiš písmeno \"u\"\n",
    "print(\"Matouš\")"
   ]
  },
  {
   "cell_type": "code",
   "execution_count": null,
   "metadata": {},
   "outputs": [],
   "source": [
    "# Najdi a vypiš poslední znak\n",
    "print(\"Matouš\")"
   ]
  },
  {
   "cell_type": "code",
   "execution_count": null,
   "metadata": {},
   "outputs": [],
   "source": [
    "# Najdi a vypiš \"matous\"\n",
    "print(\"matous.holinka@gmail.com\")"
   ]
  },
  {
   "cell_type": "code",
   "execution_count": null,
   "metadata": {},
   "outputs": [],
   "source": [
    "# Najdi a vypiš všechny sudé číslice (bez nuly)\n",
    "print(\"1234567890\")"
   ]
  },
  {
   "cell_type": "code",
   "execution_count": null,
   "metadata": {},
   "outputs": [],
   "source": [
    "# Spoj a vypiš \"Matouš\" a \"Holinka\" pomocí mezery\n",
    "print(\"Matouš\" + \"Holinka\")"
   ]
  },
  {
   "cell_type": "markdown",
   "metadata": {},
   "source": [
    "<details>\n",
    "    <summary>▶️ Řešení</summary>\n",
    "    \n",
    "```python\n",
    "print(\"Matouš\"[4])\n",
    "print(\"Matouš\"[-1])\n",
    "print(\"matous.holinka@gmail.com\"[:6])\n",
    "print(\"1234567890\"[1:-2:2])\n",
    "print(\"Matouš\" + \" \" + \"Holinka\")\n",
    "```\n",
    "\n",
    "</details>"
   ]
  },
  {
   "cell_type": "markdown",
   "metadata": {},
   "source": [
    "\n",
    "## Proměnná v Pythonu\n",
    "\n",
    "---\n",
    "\n",
    "Proměnná (angl. variable) je jméno, které používáme k uložení hodnoty, se kterou chceme později pracovat.\n",
    "\n",
    "Proměnná v Pythonu je jako pojmenovaná krabička, do které si uložíš nějakou hodnotu, aby sis ji nemusel pamatovat, a mohl ji snadno použít kdykoli v programu.\n",
    "\n",
    "<img src=\"https://encrypted-tbn0.gstatic.com/images?q=tbn:ANd9GcQtafc6jI5IkBGHRi4fX_vzWTaZNF0KHm2vwQ&s\" width=\"auto\">"
   ]
  },
  {
   "cell_type": "markdown",
   "metadata": {},
   "source": [
    "<br>\n",
    "\n",
    "### Standardní zápis proměnné s hodnotou\n",
    "\n",
    "---\n",
    "\n",
    "Pokud chceš interpretovi oznámit, že chceš hodnotu schovat na později, učiníš tak pomocí symbolu `=`:\n",
    "    "
   ]
  },
  {
   "cell_type": "code",
   "execution_count": null,
   "metadata": {},
   "outputs": [],
   "source": [
    "jmeno = \"Matouš\"\n",
    "vek = 55"
   ]
  },
  {
   "cell_type": "markdown",
   "metadata": {},
   "source": [
    "Označení `jmeno, vek` jsou jen **jména, označení, identifikátory**, které označí hodnoty `\"Matous\"` a `55` u tebe v paměti."
   ]
  },
  {
   "cell_type": "code",
   "execution_count": null,
   "metadata": {},
   "outputs": [
    {
     "name": "stdout",
     "output_type": "stream",
     "text": [
      "Matouš 55\n"
     ]
    }
   ],
   "source": [
    "print(jmeno, vek)"
   ]
  },
  {
   "cell_type": "code",
   "execution_count": null,
   "metadata": {},
   "outputs": [
    {
     "name": "stdout",
     "output_type": "stream",
     "text": [
      "11\n"
     ]
    }
   ],
   "source": [
    "moje_cislo = \"11\"\n",
    "print(moje_cislo)"
   ]
  },
  {
   "cell_type": "markdown",
   "metadata": {},
   "source": [
    "\n",
    "1. `moje_cislo` - na levé straně od rovnítka je **jméno proměnné**. Jak pojmenovat proměnnou si povíme za chvíli,\n",
    "\n",
    "<br>\n",
    "\n",
    "2. `=` symbol, který **přiřadí zadanou hodnotu** ke jménu proměnné,\n",
    "\n",
    "<br>\n",
    "\n",
    "3. `\"11\"` - je **hodnota**, kterou si chceme uložit na později (nebo ji použít více než 1x). V tomto případě je to string, ale můžeš uložit také číselné hodnoty aj."
   ]
  },
  {
   "cell_type": "markdown",
   "metadata": {},
   "source": [
    "### Pravidla pro pojmenování objektů\n",
    "\n",
    "---\n",
    "\n",
    "Jméno proměnné (někdy také odkaz) **může obsahovat** tyto znaky:\n",
    "1. **Písmenné** znaky,\n",
    "2. **Číselné** znaky,\n",
    "3. **Podtržítka**."
   ]
  },
  {
   "cell_type": "code",
   "execution_count": null,
   "metadata": {},
   "outputs": [],
   "source": [
    "jmeno   = \"Matous\"\n",
    "jmeno2  = \"Matous\"\n",
    "jmeno_2 = \"Matous\""
   ]
  },
  {
   "cell_type": "markdown",
   "metadata": {},
   "source": [
    "Existují ovšem znaky, které jméno proměnné **obsahovat nesmí**:\n",
    "1. Jméno proměnné nesmí **začínat číselným znakem**,\n",
    "2. jméno proměnné nesmí **obsahovat speciální znaky** (kromě podtržítka),\n",
    "3. jméno proměnné nesmí **obsahovat mezery**.\n",
    "\n",
    "Obvykle se nedoporučuje začínat jména **odkazů** pomocí **podtržítka** (pokud nevíš proč to dělat, raději to nedělej):"
   ]
  },
  {
   "cell_type": "code",
   "execution_count": null,
   "metadata": {},
   "outputs": [
    {
     "ename": "SyntaxError",
     "evalue": "invalid syntax (3758312133.py, line 1)",
     "output_type": "error",
     "traceback": [
      "\u001b[0;36m  Cell \u001b[0;32mIn[80], line 1\u001b[0;36m\u001b[0m\n\u001b[0;31m    1jmeno = \"Matous\"\u001b[0m\n\u001b[0m      ^\u001b[0m\n\u001b[0;31mSyntaxError\u001b[0m\u001b[0;31m:\u001b[0m invalid syntax\n"
     ]
    }
   ],
   "source": [
    "1jmeno = \"Matous\""
   ]
  },
  {
   "cell_type": "code",
   "execution_count": null,
   "metadata": {},
   "outputs": [
    {
     "ename": "SyntaxError",
     "evalue": "invalid syntax (3602912159.py, line 1)",
     "output_type": "error",
     "traceback": [
      "\u001b[0;36m  Cell \u001b[0;32mIn[81], line 1\u001b[0;36m\u001b[0m\n\u001b[0;31m    jmeno@ = \"Matouš\"\u001b[0m\n\u001b[0m           ^\u001b[0m\n\u001b[0;31mSyntaxError\u001b[0m\u001b[0;31m:\u001b[0m invalid syntax\n"
     ]
    }
   ],
   "source": [
    "jmeno@ = \"Matouš\""
   ]
  },
  {
   "cell_type": "code",
   "execution_count": null,
   "metadata": {},
   "outputs": [
    {
     "ename": "SyntaxError",
     "evalue": "invalid syntax (3316867703.py, line 1)",
     "output_type": "error",
     "traceback": [
      "\u001b[0;36m  Cell \u001b[0;32mIn[82], line 1\u001b[0;36m\u001b[0m\n\u001b[0;31m    moje jmeno = \"Matous\"\u001b[0m\n\u001b[0m         ^\u001b[0m\n\u001b[0;31mSyntaxError\u001b[0m\u001b[0;31m:\u001b[0m invalid syntax\n"
     ]
    }
   ],
   "source": [
    "moje jmeno = \"Matous\""
   ]
  },
  {
   "cell_type": "markdown",
   "metadata": {},
   "source": [
    "<br>\n",
    "\n",
    "Dále nepoužívej pro jméno proměnné žádný **z rezervovaných klíčových slov**:"
   ]
  },
  {
   "cell_type": "code",
   "execution_count": null,
   "metadata": {},
   "outputs": [],
   "source": [
    "# Špatně\n",
    "print = \"Matous\"\n",
    "print(\"M\")"
   ]
  },
  {
   "cell_type": "code",
   "execution_count": null,
   "metadata": {},
   "outputs": [],
   "source": [
    "# Správně\n",
    "name = \"Matous\"\n",
    "print(name)"
   ]
  },
  {
   "cell_type": "markdown",
   "metadata": {},
   "source": [
    "<br>\n",
    "\n",
    "Pokud potřebuješ použít klíčový výraz **jako jméno proměnné**, můžeš použít podtržítko **jako příponu**:"
   ]
  },
  {
   "cell_type": "code",
   "execution_count": null,
   "metadata": {},
   "outputs": [],
   "source": [
    "# Správně\n",
    "str_ = \"Matous\"\n",
    "print(str_)"
   ]
  },
  {
   "cell_type": "markdown",
   "metadata": {},
   "source": [
    "<br>\n",
    "\n",
    "### Forma zápisu\n",
    "\n",
    "---\n",
    "Je jedno, jestli preferuješ tzv. `camelCase` nebo `snake_case`. Důležité je konzistentní používání skrz celý tvůj zápis."
   ]
  },
  {
   "cell_type": "code",
   "execution_count": null,
   "metadata": {},
   "outputs": [],
   "source": [
    "moje_datum_narozeni = ...\n",
    "mojeDatumNarozeni = ..."
   ]
  },
  {
   "cell_type": "code",
   "execution_count": null,
   "metadata": {},
   "outputs": [],
   "source": [
    "dorucovaci_adresa = \"U Potoka 11\""
   ]
  },
  {
   "cell_type": "markdown",
   "metadata": {},
   "source": [
    "V Pythonu se pro pojmenování proměnných preferuje styl zápisu snake_case."
   ]
  },
  {
   "cell_type": "markdown",
   "metadata": {},
   "source": [
    "### **Konstanty**\n",
    "Pokud se hodnota proměnné nebude měnit (zůstane konstantní), zapisujeme celé jméno velkými písmeny:"
   ]
  },
  {
   "cell_type": "code",
   "execution_count": null,
   "metadata": {},
   "outputs": [],
   "source": [
    "TIHOVE_ZRYCHLENI = 9.81"
   ]
  },
  {
   "cell_type": "code",
   "execution_count": null,
   "metadata": {},
   "outputs": [],
   "source": [
    "PI = 3.141"
   ]
  },
  {
   "cell_type": "markdown",
   "metadata": {},
   "source": [
    "### **Komplikované čtení**\n",
    "\n",
    "Pokud budete chtít jméno proměnné **označit jedním písmenem**, doporučujeme **nepoužívat** `l` (malé el), `O` (velké ó), `I` (velké í). Může totiž snadno dojít k jejich záměně s jiným písmenem.\n",
    "\n",
    "<br>\n",
    "\n",
    "Dále existují různé druhy písma, kde jsou písmena k nerozeznání od **nuly** a **jedničky**."
   ]
  },
  {
   "cell_type": "markdown",
   "metadata": {},
   "source": [
    "## **Práce s proměnnými**\n",
    "\n",
    "---\n",
    "Proměnná je pouze odkaz na hodnotu (jako je *string*, *integer*, *float*), proto je můžeš používat stejně, jak jsme si doposud ukazovali:"
   ]
  },
  {
   "cell_type": "markdown",
   "metadata": {},
   "source": [
    "### **integer**"
   ]
  },
  {
   "cell_type": "code",
   "execution_count": null,
   "metadata": {},
   "outputs": [],
   "source": [
    "prvni_cislo = 5"
   ]
  },
  {
   "cell_type": "code",
   "execution_count": null,
   "metadata": {},
   "outputs": [],
   "source": [
    "druhe_cislo = 6"
   ]
  },
  {
   "cell_type": "code",
   "execution_count": null,
   "metadata": {},
   "outputs": [],
   "source": [
    "print(prvni_cislo + druhe_cislo)"
   ]
  },
  {
   "cell_type": "code",
   "execution_count": null,
   "metadata": {},
   "outputs": [],
   "source": [
    "print(prvni_cislo + druhe_cislo + treti_cislo)"
   ]
  },
  {
   "cell_type": "markdown",
   "metadata": {},
   "source": [
    "### **string**"
   ]
  },
  {
   "cell_type": "code",
   "execution_count": null,
   "metadata": {},
   "outputs": [],
   "source": [
    "jmeno = \"Karel\""
   ]
  },
  {
   "cell_type": "code",
   "execution_count": null,
   "metadata": {},
   "outputs": [],
   "source": [
    "prijmeni = \"Novak\""
   ]
  },
  {
   "cell_type": "code",
   "execution_count": null,
   "metadata": {},
   "outputs": [],
   "source": [
    "print(jmeno + prijmeni)"
   ]
  },
  {
   "cell_type": "markdown",
   "metadata": {},
   "source": [
    "\n",
    "\n",
    "## Sekvence list, tuple\n",
    "\n",
    "---\n",
    "Doposud jsme si ukázali jak pracovat **s jednou hodnotou** (`int`, `float`, `str`).\n",
    "\n",
    "<br>\n",
    "\n",
    "V Pythonu můžeš ale sdružovat **více hodnot** společně. Na jednom místě.\n",
    "\n",
    "<br>\n",
    "\n",
    "Takové hodnoty potom budeme označovat jako tzv. **sekvenční datové typy** (tedy několik údajů oddělených *oddělovačem*).\n",
    "1. `list` (z angl. *list*, česky *seznam*),\n",
    "2. `tuple` (z angl. *tuple*, česky *n-tice*),\n",
    "3. `range` (z angl. *range*, česky *rozsah*) - na něj přijde řada později."
   ]
  },
  {
   "cell_type": "markdown",
   "metadata": {},
   "source": [
    "### List\n",
    "\n",
    "---\n",
    "*List* je první *sekvenční* datový typ. Poznáš jej podle:\n",
    "1. **hranatých závorek**,\n",
    "2. oddělovačem **je čárka**,\n",
    "3. jeho obsah (uvnitř závorek) můžeš po vytvoření **změnit** (přidávat a odebírat).\n",
    "\n",
    "```python\n",
    "[\"Matous\", \"Marek\", \"Lukas\", \"Jan\"]\n",
    "```"
   ]
  },
  {
   "cell_type": "code",
   "execution_count": null,
   "metadata": {},
   "outputs": [
    {
     "name": "stdout",
     "output_type": "stream",
     "text": [
      "<class 'list'>\n"
     ]
    }
   ],
   "source": [
    "print(type([\"Matous\", \"Marek\", \"Lukas\", \"Jan\"]))"
   ]
  },
  {
   "cell_type": "markdown",
   "metadata": {},
   "source": [
    "### Tuple\n",
    "\n",
    "---\n",
    "*Tuple* je druhý *sekvenční* datový typ. Poznáš jej podle:\n",
    "1. **kulatých závorek** (může být i bez závorek),\n",
    "2. oddělovačem **je čárka**,\n",
    "3. jeho obsah (uvnitř závorek) **nemůžeš** po vytvoření změnit.\n",
    "\n",
    "```python\n",
    "(\"Matous\", \"Marek\", \"Lukas\", \"Jan\")\n",
    "```"
   ]
  },
  {
   "cell_type": "code",
   "execution_count": null,
   "metadata": {},
   "outputs": [
    {
     "name": "stdout",
     "output_type": "stream",
     "text": [
      "<class 'tuple'>\n"
     ]
    }
   ],
   "source": [
    "print(type((\"Matous\", \"Marek\", \"Lukas\", \"Jan\")))"
   ]
  },
  {
   "cell_type": "markdown",
   "metadata": {},
   "source": [
    "### Nový list, nový tuple\n",
    "---\n",
    "\n",
    "##### List"
   ]
  },
  {
   "cell_type": "code",
   "execution_count": null,
   "metadata": {},
   "outputs": [
    {
     "name": "stdout",
     "output_type": "stream",
     "text": [
      "<class 'list'>\n",
      "<class 'list'>\n"
     ]
    }
   ],
   "source": [
    "print(type([]))\n",
    "print(type(list()))"
   ]
  },
  {
   "cell_type": "code",
   "execution_count": null,
   "metadata": {},
   "outputs": [
    {
     "name": "stdout",
     "output_type": "stream",
     "text": [
      "[1, 2, 3]\n"
     ]
    }
   ],
   "source": [
    "print([1, 2, 3])"
   ]
  },
  {
   "cell_type": "markdown",
   "metadata": {},
   "source": [
    "V Pythonu můžeš vytvořit prázdný list několika různými způsoby:\n",
    "<br>\n",
    "\n",
    "<strong>1. Pomocí hranatých závorek</strong>"
   ]
  },
  {
   "cell_type": "code",
   "execution_count": 22,
   "metadata": {},
   "outputs": [],
   "source": [
    "prvni_seznam = []"
   ]
  },
  {
   "cell_type": "markdown",
   "metadata": {},
   "source": [
    "Tento zápis je nejčastější a doporučený.\n",
    "\n",
    "Vytvoří prázdný seznam, kam můžeš později přidávat hodnoty."
   ]
  },
  {
   "cell_type": "markdown",
   "metadata": {},
   "source": [
    "<strong>2. Pomocí vestavěné funkce list()</strong>"
   ]
  },
  {
   "cell_type": "code",
   "execution_count": 23,
   "metadata": {},
   "outputs": [],
   "source": [
    "druhy_seznam = list()"
   ]
  },
  {
   "cell_type": "markdown",
   "metadata": {},
   "source": [
    "Také vytvoří prázdný seznam.\n",
    "\n"
   ]
  },
  {
   "cell_type": "code",
   "execution_count": 24,
   "metadata": {},
   "outputs": [
    {
     "name": "stdout",
     "output_type": "stream",
     "text": [
      "<class 'list'>\n",
      "<class 'list'>\n"
     ]
    }
   ],
   "source": [
    "print(type(prvni_seznam))  # <class 'list'>\n",
    "print(type(druhy_seznam))  # <class 'list'>\n"
   ]
  },
  {
   "cell_type": "markdown",
   "metadata": {},
   "source": [
    "Vytvoření seznamu z jiného objektu pomocí list()"
   ]
  },
  {
   "cell_type": "code",
   "execution_count": null,
   "metadata": {},
   "outputs": [],
   "source": [
    "# Z řetězce\n",
    "text = \"test\"\n",
    "seznam_znaku = list(text)\n",
    "print(seznam_znaku)  # ['t', 'e', 's', 't']"
   ]
  },
  {
   "cell_type": "markdown",
   "metadata": {},
   "source": [
    "Kdy list() nefunguje:"
   ]
  },
  {
   "cell_type": "code",
   "execution_count": null,
   "metadata": {},
   "outputs": [],
   "source": [
    "print(list(32))  # TypeError: 'int' object is not iterable"
   ]
  },
  {
   "cell_type": "markdown",
   "metadata": {},
   "source": [
    "Čísla nejsou iterovatelné objekty, takže je nelze přímo převést na seznam."
   ]
  },
  {
   "cell_type": "markdown",
   "metadata": {},
   "source": [
    "Pokud potřebuješ vytvořit neprázdný list, můžeš údaje zapsat přímo do hranaté závorky"
   ]
  },
  {
   "cell_type": "code",
   "execution_count": null,
   "metadata": {},
   "outputs": [],
   "source": [
    "treti_seznam = [2, 4, 6, 8, 10]"
   ]
  },
  {
   "cell_type": "code",
   "execution_count": null,
   "metadata": {},
   "outputs": [],
   "source": [
    "ctvrty_seznam = [1.0, 3.0, 5.0, 7.0, 9.0]"
   ]
  },
  {
   "cell_type": "markdown",
   "metadata": {},
   "source": [
    "##### Tuple"
   ]
  },
  {
   "cell_type": "code",
   "execution_count": null,
   "metadata": {},
   "outputs": [
    {
     "name": "stdout",
     "output_type": "stream",
     "text": [
      "<class 'tuple'>\n",
      "<class 'tuple'>\n"
     ]
    }
   ],
   "source": [
    "print(type(()))\n",
    "print(type(tuple()))"
   ]
  },
  {
   "cell_type": "code",
   "execution_count": null,
   "metadata": {},
   "outputs": [],
   "source": [
    "print((\"HR\", \"Admin\", \"Development\", \"QA\"))"
   ]
  },
  {
   "cell_type": "markdown",
   "metadata": {},
   "source": [
    "V Pythonu můžeš vytvořit prázdnou n-tici (tuple) několika různými způsoby:\n",
    "##### 1. Pomocí prázdných kulatých závorek (doporučeno)"
   ]
  },
  {
   "cell_type": "code",
   "execution_count": null,
   "metadata": {},
   "outputs": [],
   "source": [
    "prvni_tupl = ()"
   ]
  },
  {
   "cell_type": "markdown",
   "metadata": {},
   "source": [
    "Vytvoří prázdnou n-tici."
   ]
  },
  {
   "cell_type": "markdown",
   "metadata": {},
   "source": [
    "##### 2. Pomocí vestavěné funkce tuple()"
   ]
  },
  {
   "cell_type": "code",
   "execution_count": null,
   "metadata": {},
   "outputs": [],
   "source": [
    "druhy_tupl = tuple()\n"
   ]
  },
  {
   "cell_type": "markdown",
   "metadata": {},
   "source": [
    "Také vytvoří prázdnou n-tici.\n",
    "\n",
    "Užitečné, když potřebuješ převést jiný iterovatelný objekt na n-tici."
   ]
  },
  {
   "cell_type": "markdown",
   "metadata": {},
   "source": [
    "##### Vytvoření n-tice z jiného objektu pomocí tuple()"
   ]
  },
  {
   "cell_type": "code",
   "execution_count": null,
   "metadata": {},
   "outputs": [],
   "source": [
    "# Z řetězce\n",
    "text = \"Python\"\n",
    "tupl_znaku = tuple(text)\n",
    "print(tupl_znaku)  # ('P', 'y', 't', 'h', 'o', 'n')\n"
   ]
  },
  {
   "cell_type": "code",
   "execution_count": null,
   "metadata": {},
   "outputs": [],
   "source": [
    "# Z n-tice (tuple)\n",
    "pismena = [\"a\", \"b\", \"c\"]\n",
    "tupl_pismen = tuple(pismena)\n",
    "print(tupl_pismen)  # ('a', 'b', 'c')\n"
   ]
  },
  {
   "cell_type": "markdown",
   "metadata": {},
   "source": [
    "##### Kdy tuple() nefunguje:"
   ]
  },
  {
   "cell_type": "code",
   "execution_count": null,
   "metadata": {},
   "outputs": [],
   "source": [
    "print(tuple(32))  # TypeError: 'int' object is not iterable\n"
   ]
  },
  {
   "cell_type": "markdown",
   "metadata": {},
   "source": [
    "Stejně jako u list(), čísla nejsou iterovatelné objekty, takže je nelze přímo převést na n-tici."
   ]
  },
  {
   "cell_type": "markdown",
   "metadata": {},
   "source": [
    "##### Vytvoření n-tice s více hodnotami:"
   ]
  },
  {
   "cell_type": "code",
   "execution_count": null,
   "metadata": {},
   "outputs": [],
   "source": [
    "treti_tupl = (\"Praha\", \"Berlin\", \"Varšava\", \"Bratislava\", \"Vídeň\")\n",
    "print(treti_tupl)  # ('Praha', 'Berlin', 'Varšava', 'Bratislava', 'Vídeň')\n"
   ]
  },
  {
   "cell_type": "code",
   "execution_count": null,
   "metadata": {},
   "outputs": [],
   "source": [
    "ctvrty_tupl = 1.3, 3.6, 1.8, 0.4, 1.9\n",
    "print(ctvrty_tupl)  # (1.3, 3.6, 1.8, 0.4, 1.9)\n"
   ]
  },
  {
   "cell_type": "markdown",
   "metadata": {},
   "source": [
    "### Jak s listem pracovat\n",
    "\n",
    "---\n",
    "Podobně jako u typu `str`, můžeš s `list` pracovat hned několika způsoby:\n",
    "1. Spojování,\n",
    "2. opakování,\n",
    "3. indexování,\n",
    "4. slicing,\n",
    "5. striding.\n",
    "\n",
    "<br>\n",
    "\n",
    "### Jak pracovat s tuplem\n",
    "\n",
    "---\n",
    "Podobně jako u typu `list`, můžeš s `tuple` pracovat hned několika způsoby:\n",
    "1. Spojování,\n",
    "2. opakování,\n",
    "3. indexování,\n",
    "4. slicing,\n",
    "5. striding."
   ]
  },
  {
   "cell_type": "markdown",
   "metadata": {},
   "source": [
    "<br>\n",
    "\n",
    "### Spojování\n",
    "\n",
    "---"
   ]
  },
  {
   "cell_type": "code",
   "execution_count": null,
   "metadata": {},
   "outputs": [],
   "source": [
    "print(['a', 'b', 'c'])"
   ]
  },
  {
   "cell_type": "code",
   "execution_count": null,
   "metadata": {},
   "outputs": [
    {
     "name": "stdout",
     "output_type": "stream",
     "text": [
      "['Matous', 'Lukas', 'Petr', 'Jan']\n"
     ]
    }
   ],
   "source": [
    "# LIST\n",
    "print([\"Matous\", \"Lukas\"] + [\"Petr\", \"Jan\"])"
   ]
  },
  {
   "cell_type": "code",
   "execution_count": null,
   "metadata": {},
   "outputs": [
    {
     "name": "stdout",
     "output_type": "stream",
     "text": [
      "('a', 'b', 'c', 'd')\n"
     ]
    }
   ],
   "source": [
    "# TUPLE\n",
    "print((\"a\", \"b\") + (\"c\", \"d\"))"
   ]
  },
  {
   "cell_type": "markdown",
   "metadata": {},
   "source": [
    "<br>\n",
    "\n",
    "### Opakování\n",
    "\n",
    "---"
   ]
  },
  {
   "cell_type": "code",
   "execution_count": null,
   "metadata": {},
   "outputs": [
    {
     "name": "stdout",
     "output_type": "stream",
     "text": [
      "['@', '@', '@']\n"
     ]
    }
   ],
   "source": [
    "# LIST\n",
    "print([\"@\"] * 3)"
   ]
  },
  {
   "cell_type": "code",
   "execution_count": null,
   "metadata": {},
   "outputs": [
    {
     "name": "stdout",
     "output_type": "stream",
     "text": [
      "('@', '@', '@')\n"
     ]
    }
   ],
   "source": [
    "# TUPLE\n",
    "print((\"@\",) * 3)"
   ]
  },
  {
   "cell_type": "markdown",
   "metadata": {},
   "source": [
    "Pokud chceš vytvořit n-tici s jedním prvkem, musíš přidat čárku , za tento prvek. Bez ní by Python n-tici nepoznal a interpretoval by to jako běžnou hodnotu v závorkách."
   ]
  },
  {
   "cell_type": "code",
   "execution_count": null,
   "metadata": {},
   "outputs": [
    {
     "name": "stdout",
     "output_type": "stream",
     "text": [
      "<class 'tuple'>\n"
     ]
    }
   ],
   "source": [
    "# TUPLE\n",
    "print(type((\"@\",)))"
   ]
  },
  {
   "cell_type": "code",
   "execution_count": null,
   "metadata": {},
   "outputs": [],
   "source": [
    "print((\"@\",) * 10)"
   ]
  },
  {
   "cell_type": "markdown",
   "metadata": {},
   "source": [
    "<br>\n",
    "\n",
    "### Indexování a slicing\n",
    "\n",
    "---"
   ]
  },
  {
   "cell_type": "markdown",
   "metadata": {},
   "source": [
    "Hodnoty, které `list` obsahuje, můžeš zpřístupnit pomocí jejich **pořadí**, tedy indexů. Tento princip funguje stejně jako jsme si ukázali u stringů."
   ]
  },
  {
   "cell_type": "code",
   "execution_count": null,
   "metadata": {},
   "outputs": [],
   "source": [
    "muj_seznam = [\"Matous\", \"Marek\", \"Lukas\", \"Jan\"]"
   ]
  },
  {
   "cell_type": "code",
   "execution_count": null,
   "metadata": {},
   "outputs": [],
   "source": [
    "print(muj_seznam[0])"
   ]
  },
  {
   "cell_type": "code",
   "execution_count": null,
   "metadata": {},
   "outputs": [],
   "source": [
    "print(muj_seznam[1])"
   ]
  },
  {
   "cell_type": "code",
   "execution_count": null,
   "metadata": {},
   "outputs": [],
   "source": [
    "print(muj_seznam[-1])"
   ]
  },
  {
   "cell_type": "code",
   "execution_count": null,
   "metadata": {},
   "outputs": [],
   "source": [
    "print(muj_seznam[1:3])"
   ]
  },
  {
   "cell_type": "markdown",
   "metadata": {},
   "source": [
    "Tuple\n",
    "\n",
    "<br>\n",
    "Stejně jako `list` můžeš i `tuple` *indexovat*, *rozkrájet* (slicing), *přeskakovat* (~striding):"
   ]
  },
  {
   "cell_type": "code",
   "execution_count": null,
   "metadata": {},
   "outputs": [],
   "source": [
    "treti_tupl = (\"Praha\", \"Berlin\", \"Varsava\", \"Bratislava\", \"Viden\")"
   ]
  },
  {
   "cell_type": "code",
   "execution_count": null,
   "metadata": {},
   "outputs": [],
   "source": [
    "print(treti_tupl[0])"
   ]
  },
  {
   "cell_type": "code",
   "execution_count": null,
   "metadata": {},
   "outputs": [],
   "source": [
    "print(treti_tupl[-1])"
   ]
  },
  {
   "cell_type": "code",
   "execution_count": null,
   "metadata": {},
   "outputs": [],
   "source": [
    "print(treti_tupl[0:2])"
   ]
  },
  {
   "cell_type": "code",
   "execution_count": null,
   "metadata": {},
   "outputs": [],
   "source": [
    "print(treti_tupl[-2])"
   ]
  },
  {
   "cell_type": "markdown",
   "metadata": {},
   "source": [
    "<br>\n",
    "\n",
    "### 🧠 CVIČENÍ 3 🧠, list & tuple\n",
    "\n",
    "---\n",
    "\n",
    "Doplň, tak ať výstup odpovídá hodnotě v komentáři:"
   ]
  },
  {
   "cell_type": "code",
   "execution_count": null,
   "metadata": {},
   "outputs": [],
   "source": [
    "# najdi a vypiš hodnotu ze sekvence \"Lukas\"\n",
    "print([\"Matous\", \"Lukas\", \"Petr\", \"Jan\"])"
   ]
  },
  {
   "cell_type": "code",
   "execution_count": null,
   "metadata": {},
   "outputs": [],
   "source": [
    "# najdi a vypiš hodnoty ze sekvence \"Lukas\" a \"Petr\"\n",
    "print((\"Matous\", \"Lukas\", \"Petr\", \"Jan\"))"
   ]
  },
  {
   "cell_type": "code",
   "execution_count": null,
   "metadata": {},
   "outputs": [],
   "source": [
    "# najdi a vypiš hodnoty ze sekvence 'Lukas', 'Jan' ..pomocí jedné hranaté závorky\n",
    "print([\"Matous\", \"Lukas\", \"Petr\", \"Jan\"])"
   ]
  },
  {
   "cell_type": "markdown",
   "metadata": {},
   "source": [
    "<details>\n",
    "    <summary>▶️ Řešení</summary>\n",
    "    \n",
    "```python\n",
    "print([\"Matous\", \"Lukas\", \"Petr\", \"Jan\"][1])\n",
    "print((\"Matous\", \"Lukas\", \"Petr\", \"Jan\")[2:4])\n",
    "print([\"Matous\", \"Lukas\", \"Petr\", \"Jan\"][1:4:2])\n",
    "```\n",
    "\n",
    "</details>"
   ]
  },
  {
   "cell_type": "markdown",
   "metadata": {},
   "source": [
    "<br>\n",
    "\n",
    "## Úvod do funkcí\n",
    "---\n",
    "\n",
    "Obecně řečeno Python disponuje dvěma typy funkcí. Tebe budou zajímat:\n",
    "1. **Zabudované funkce** (~*built-in functions*),\n",
    "2. **Uživatelské funkce** (~*user-defined functions*) - ty přijdou na řadu později.\n",
    "\n",
    "<br>\n",
    "\n",
    "Funkce jsou v podstatě **pomocné nástroje**, které ti umožní snazší a efektivnější práci.\n",
    "\n",
    "To, že nesou označení **zabudované** znamená, že je máš k dispozici ihned po instalaci. Tedy v každém souboru (s příponou `.py`), který do budoucna vytvoříš."
   ]
  },
  {
   "cell_type": "markdown",
   "metadata": {},
   "source": [
    "<br>\n",
    "\n",
    "### Použití zabudované funkce\n",
    "\n",
    "---\n",
    "\n",
    "| Jméno funkce | Účel funkce |\n",
    "| :-: | :- |\n",
    "| `type` | Vrací datový typ zadané hodnoty |\n",
    "| `str` | Vrací *string* ze zadané hodnoty |\n",
    "| `list` | Vrací nový objekt, sekvenční datový typ *list* |\n",
    "| `tuple` | Vrací nový objekt, sekvenční datový typ *tuple* |\n",
    "| `help` | Vratí nápovědu k zadanému objektu |\n",
    "| `print` | Vypisuje zadné hodnoty jako výstupy |\n",
    "| `input` | Umožňuje ukládat vstupy od uživatele |\n",
    "\n",
    "<br>\n",
    "\n",
    "Pokud máš se zabudovanými funkcemi nějaké zkušenosti, nebo tě zajímá, které další bys mohl v rámci Pythonu využít, mrkni na [oficiální tabulku](https://docs.python.org/3/library/functions.html) všech zabudovaných funkcí."
   ]
  },
  {
   "cell_type": "code",
   "execution_count": null,
   "metadata": {},
   "outputs": [],
   "source": [
    "help(input)"
   ]
  },
  {
   "cell_type": "markdown",
   "metadata": {},
   "source": [
    "\n",
    "## Domácí úkol\n",
    "\n",
    "---"
   ]
  },
  {
   "cell_type": "markdown",
   "metadata": {},
   "source": [
    "Představ si situaci, že chceš napsat takový program, který ti umožní rezervovat jízdenky.\n",
    "\n",
    "Samozřejmě nepůjde o žádnou produkční verzi ale **jednoduchý skript** postavený na komunikaci *uživatele* a *interpretu*.\n",
    "\n",
    "<br>\n",
    "\n",
    "Program bude umět:\n",
    "\n",
    "1. **Pozdravit** uživatele,\n",
    "2. **Vypsat** nabídku,\n",
    "3. Dovolit uživateli **zadat vstupní data**,\n",
    "4. **Zpracovat** vstupní data,\n",
    "5. **Vypsat** zpracovaná data."
   ]
  },
  {
   "cell_type": "markdown",
   "metadata": {},
   "source": [
    "### 1/6 Vstupní údaje\n",
    "\n",
    "---"
   ]
  },
  {
   "cell_type": "code",
   "execution_count": null,
   "metadata": {},
   "outputs": [],
   "source": [
    "mesta = [\"Praha\", \"Viden\", \"Olomouc\", \"Svitavy\", \"Zlin\", \"Ostrava\"]\n",
    "ceny = (150, 200, 120, 120, 100, 180)\n",
    "cara = \"=\" * 35\n",
    "nabidka = \"\"\"1 - Praha   | 150\n",
    "2 - Viden   | 200\n",
    "3 - Olomouc | 120\n",
    "4 - Svitavy | 120\n",
    "5 - Zlin    | 100\n",
    "6 - Ostrava | 180\n",
    "\"\"\""
   ]
  },
  {
   "cell_type": "markdown",
   "metadata": {},
   "source": [
    "### 2/6 Pozdrav uživatele\n",
    "\n",
    "---"
   ]
  },
  {
   "cell_type": "markdown",
   "metadata": {},
   "source": [
    "Očekávaný výstup:\n",
    "\n",
    "```\n",
    "VITEJTE U NASI APLIKACE DESTINATIO!\n",
    "===================================\n",
    "```"
   ]
  },
  {
   "cell_type": "code",
   "execution_count": null,
   "metadata": {},
   "outputs": [],
   "source": [
    "# Zapiš pozdrav a odděl jej pomocnou proměnnou"
   ]
  },
  {
   "cell_type": "markdown",
   "metadata": {},
   "source": [
    "<details>\n",
    "  <summary>▶️  Klikni zde pro zobrazení řešení</summary>\n",
    "   \n",
    "```python\n",
    "cara = \"=\" * 35\n",
    "\n",
    "print(\"VITEJTE U NASI APLIKACE DESTINATIO!\")\n",
    "print(cara)\n",
    "```\n",
    "</details>"
   ]
  },
  {
   "cell_type": "markdown",
   "metadata": {},
   "source": [
    "### 3/6 Vypsání nabídky\n",
    "\n",
    "---\n",
    "\n",
    "Očekávaný výstup:\n",
    "\n",
    "```\n",
    "VITEJTE U NASI APLIKACE DESTINATIO!\n",
    "===================================\n",
    "1 - Praha   | 150\n",
    "2 - Viden   | 200\n",
    "3 - Olomouc | 120\n",
    "4 - Svitavy | 120\n",
    "5 - Zlin    | 100\n",
    "6 - Ostrava | 180\n",
    "\n",
    "```"
   ]
  },
  {
   "cell_type": "code",
   "execution_count": null,
   "metadata": {},
   "outputs": [],
   "source": [
    "# Vypiš nabídku cílových destinací a odděl ji pomocnou proměnnou"
   ]
  },
  {
   "cell_type": "markdown",
   "metadata": {},
   "source": [
    "<details>\n",
    "  <summary>▶️  Klikni zde pro zobrazení řešení</summary>\n",
    "   \n",
    "```python\n",
    "cara = \"=\" * 35\n",
    "nabidka = \"\"\"\n",
    "1 - Praha   | 150\n",
    "2 - Viden   | 200\n",
    "3 - Olomouc | 120\n",
    "4 - Svitavy | 120\n",
    "5 - Zlin    | 100\n",
    "6 - Ostrava | 180\n",
    "\"\"\"\n",
    "\n",
    "print(\"VITEJTE U NASI APLIKACE DESTINATIO!\")\n",
    "print(cara)\n",
    "print(nabidka)\n",
    "print(cara)\n",
    "```\n",
    "</details>"
   ]
  },
  {
   "cell_type": "markdown",
   "metadata": {},
   "source": [
    "### 4/6 Zadání vstupních dat od uživatele\n",
    "\n",
    "---\n",
    "\n",
    "Očekávaný výstup:\n",
    "\n",
    "```\n",
    "<predchozi_ukoly>\n",
    "===================================\n",
    "CISLO DESTINACE: 1\n",
    "JMENO: Matous\n",
    "PRIJMENI: Holinka\n",
    "EMAIL: matous@matous.cz\n",
    "===================================\n",
    "```"
   ]
  },
  {
   "cell_type": "code",
   "execution_count": null,
   "metadata": {},
   "outputs": [],
   "source": [
    "# Dovol uživateli zadat 'destinace', 'cele_jmeno', 'email', 'rok_narozeni' a doplň oddělovač"
   ]
  },
  {
   "cell_type": "markdown",
   "metadata": {},
   "source": [
    "**Opatrně!** nezapomeň na to, jaký **datový typ** používáš."
   ]
  },
  {
   "cell_type": "markdown",
   "metadata": {},
   "source": [
    "<details>\n",
    "  <summary>▶️  Klikni zde pro zobrazení řešení</summary>\n",
    "   \n",
    "```python\n",
    "cara = \"=\" * 35\n",
    "nabidka = \"\"\"\n",
    "1 - Praha   | 150\n",
    "2 - Viden   | 200\n",
    "3 - Olomouc | 120\n",
    "4 - Svitavy | 120\n",
    "5 - Zlin    | 100\n",
    "6 - Ostrava | 180\n",
    "\"\"\"\n",
    "\n",
    "print(\"VITEJTE U NASI APLIKACE DESTINATIO!\")\n",
    "print(cara)\n",
    "print(nabidka)\n",
    "print(cara)\n",
    "\n",
    "destinace = input(\"CISLO DESTINACE:\")\n",
    "jmeno = input(\"JMENO:\")\n",
    "prijmeni = input(\"PRIJMENI:\")\n",
    "email = input(\"EMAIL:\")\n",
    "print(cara)\n",
    "```\n",
    "</details>"
   ]
  },
  {
   "cell_type": "markdown",
   "metadata": {},
   "source": [
    "### 5/6 Zpracování dat\n",
    "\n",
    "---\n",
    "\n",
    "Očekávaný výstup:\n",
    "\n",
    "```\n",
    "<predchozi_ukoly>\n",
    "===================================\n",
    "CISLO DESTINACE: 2\n",
    "===================================\n",
    "Viden\n",
    "200\n",
    "===================================\n",
    "```"
   ]
  },
  {
   "cell_type": "code",
   "execution_count": null,
   "metadata": {},
   "outputs": [],
   "source": [
    "# Zkus propojit stávající datový typ \"mesta\" a \"destinace\""
   ]
  },
  {
   "cell_type": "markdown",
   "metadata": {},
   "source": [
    "<details>\n",
    "  <summary>▶️  Klikni zde pro zobrazení řešení</summary>\n",
    "   \n",
    "```python\n",
    "mesta = [\"Praha\", \"Viden\", \"Olomouc\", \"Svitavy\", \"Zlin\", \"Ostrava\"]\n",
    "ceny = (150, 200, 120, 120, 100, 180)\n",
    "cara = \"=\" * 35\n",
    "nabidka = \"\"\"\n",
    "1 - Praha   | 150\n",
    "2 - Viden   | 200\n",
    "3 - Olomouc | 120\n",
    "4 - Svitavy | 120\n",
    "5 - Zlin    | 100\n",
    "6 - Ostrava | 180\n",
    "\"\"\"\n",
    "\n",
    "print(\"VITEJTE U NASI APLIKACE DESTINATIO!\")\n",
    "print(cara)\n",
    "print(nabidka)\n",
    "print(cara)\n",
    "\n",
    "destinace = input(\"CISLO DESTINACE:\")\n",
    "\n",
    "spravna_destinace = mesta[int(destinace) - 1]\n",
    "cena = ceny[int(destinace) - 1]\n",
    "print(cara)\n",
    "```\n",
    "</details>"
   ]
  },
  {
   "cell_type": "markdown",
   "metadata": {},
   "source": [
    "### 6/6 Výpis zpracovaných hodnot\n",
    "\n",
    "---\n",
    "\n",
    "Očekávaný výstup:\n",
    "\n",
    "```\n",
    "VITEJTE U NASI APLIKACE DESTINATIO!\n",
    "===================================\n",
    "1 - Praha   | 150\n",
    "2 - Viden   | 200\n",
    "3 - Olomouc | 120\n",
    "4 - Svitavy | 120\n",
    "5 - Zlin    | 100\n",
    "6 - Ostrava | 180\n",
    "===================================\n",
    "CISLO DESTINACE: 2\n",
    "JMENO: Matous\n",
    "PRIJMENI: Holinka\n",
    "EMAIL: matous@matous.cz\n",
    "===================================\n",
    "DEKUJI, Matous ZA OBJEDNAVKU,\n",
    "CIL. DESTINACE: Viden, CENA JIZDNEHO: 200,\n",
    "NA TVUJ MAIL matous@matous.cz JSME TI POSLALI LISTEK.\n",
    "===================================\n",
    "```"
   ]
  },
  {
   "cell_type": "code",
   "execution_count": null,
   "metadata": {},
   "outputs": [],
   "source": [
    "# Vypiš tyto informace pro objednávajícího uživatele\n",
    "# - Kdo si objednal,\n",
    "# - kam cestuje a za kolik,\n",
    "# - kam mu přijde lístek."
   ]
  },
  {
   "cell_type": "markdown",
   "metadata": {},
   "source": [
    "<details>\n",
    "  <summary>▶️  Klikni zde pro zobrazení řešení</summary>\n",
    "   \n",
    "```python\n",
    "mesta = [\"Praha\", \"Viden\", \"Olomouc\", \"Svitavy\", \"Zlin\", \"Ostrava\"]\n",
    "ceny = (150, 200, 120, 120, 100, 180)\n",
    "cara = \"=\" * 35\n",
    "nabidka = \"\"\"\n",
    "1 - Praha   | 150\n",
    "2 - Viden   | 200\n",
    "3 - Olomouc | 120\n",
    "4 - Svitavy | 120\n",
    "5 - Zlin    | 100\n",
    "6 - Ostrava | 180\n",
    "\"\"\"\n",
    "\n",
    "print(\"VITEJTE U NASI APLIKACE DESTINATIO!\")\n",
    "print(cara)\n",
    "print(nabidka)\n",
    "print(cara)\n",
    "\n",
    "destinace = input(\"CISLO DESTINACE:\")\n",
    "jmeno = input(\"JMENO:\")\n",
    "prijmeni = input(\"PRIJMENI:\")\n",
    "email = input(\"EMAIL:\")\n",
    "print(cara)\n",
    "\n",
    "spravna_destinace = mesta[int(destinace) - 1]\n",
    "cena = ceny[int(destinace) - 1]\n",
    "\n",
    "print(f\"\"\"DEKUJI, {jmeno} ZA OBJEDNAVKU,\n",
    "CIL. DESTINACE: {spravna_destinace}, CENA JIZDNEHO: {cena},\n",
    "NA TVUJ MAIL {email} JSME TI POSLALI LISTEK.\"\"\")\n",
    "```\n",
    "</details>"
   ]
  },
  {
   "cell_type": "markdown",
   "metadata": {},
   "source": [
    "➡️ ➡️ **Formulář pro Tvoje hodnocení** [**první lekce**](https://forms.gle/QKpx2W122KojfdEd7) ⬅️ ⬅️"
   ]
  },
  {
   "cell_type": "markdown",
   "metadata": {},
   "source": [
    "\n",
    "---"
   ]
  }
 ],
 "metadata": {
  "kernelspec": {
   "display_name": ".venv",
   "language": "python",
   "name": "python3"
  },
  "language_info": {
   "codemirror_mode": {
    "name": "ipython",
    "version": 3
   },
   "file_extension": ".py",
   "mimetype": "text/x-python",
   "name": "python",
   "nbconvert_exporter": "python",
   "pygments_lexer": "ipython3",
   "version": "3.13.1"
  }
 },
 "nbformat": 4,
 "nbformat_minor": 4
}
